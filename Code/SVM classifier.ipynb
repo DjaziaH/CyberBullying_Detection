{
 "cells": [
  {
   "cell_type": "code",
   "execution_count": 1,
   "metadata": {},
   "outputs": [],
   "source": [
    "import sklearn\n",
    "import numpy as np\n",
    "import pandas as pd"
   ]
  },
  {
   "cell_type": "code",
   "execution_count": 21,
   "metadata": {},
   "outputs": [],
   "source": [
    "X_train_1 = pd.read_csv('../Data/data_1/Training_data/X.csv')['text'].to_list()\n",
    "X_test_1 = pd.read_csv('../Data/data_1/Testing_data/X.csv')['text'].to_list()\n",
    "y_train_1 = pd.read_csv('../Data/data_1/Training_data/Y.csv')['offensive/non offensive'].to_list()\n",
    "y_test_1 = pd.read_csv('../Data/data_1/Testing_data/Y.csv')['offensive/non offensive'].to_list()"
   ]
  },
  {
   "cell_type": "code",
   "execution_count": 22,
   "metadata": {},
   "outputs": [],
   "source": [
    "X_train_2 = pd.read_csv('../Data/data_2/Training_data/X.csv')['text'].to_list()\n",
    "X_test_2 = pd.read_csv('../Data/data_2/Testing_data/X.csv')['text'].to_list()\n",
    "y_train_2 = pd.read_csv('../Data/data_2/Training_data/Y.csv')['offensive/non offensive'].to_list()\n",
    "y_test_2 = pd.read_csv('../Data/data_2/Testing_data/Y.csv')['offensive/non offensive'].to_list()"
   ]
  },
  {
   "cell_type": "code",
   "execution_count": 23,
   "metadata": {},
   "outputs": [],
   "source": [
    "from sklearn.feature_extraction.text import CountVectorizer"
   ]
  },
  {
   "cell_type": "code",
   "execution_count": 24,
   "metadata": {},
   "outputs": [],
   "source": [
    "# vectorize comments for model building\n",
    "vectorizer_1 = CountVectorizer(binary=True)\n",
    "\n",
    "# learn a vocabulary dictionary of all tokens in the raw data\n",
    "vectorizer_1.fit(X_train_1 + X_test_1)\n",
    "\n",
    "# transform data to data-term matrix\n",
    "X_train_1_vec = vectorizer_1.transform(X_train_1)\n",
    "X_test_1_vec = vectorizer_1.transform(X_test_1)"
   ]
  },
  {
   "cell_type": "code",
   "execution_count": 27,
   "metadata": {},
   "outputs": [],
   "source": [
    "# vectorize comments for model building\n",
    "vectorizer_2 = CountVectorizer(binary=True)\n",
    "\n",
    "# learn a vocabulary dictionary of all tokens in the raw data\n",
    "vectorizer_2.fit(X_train_2 + X_test_2)\n",
    "\n",
    "# transform data to data-term matrix\n",
    "X_train_2_vec = vectorizer_2.transform(X_train_2)\n",
    "X_test_2_vec = vectorizer_2.transform(X_test_2)"
   ]
  },
  {
   "cell_type": "code",
   "execution_count": 30,
   "metadata": {},
   "outputs": [],
   "source": [
    "from sklearn import svm\n",
    "# classify using support vector classifier\n",
    "svm = svm.SVC(kernel = 'linear', probability=True)\n",
    "\n",
    "# fit the SVC model based on the given training data\n",
    "prob = svm.fit(X_train_1_vec, y_train_1).predict_proba(X_test_1_vec)\n",
    "\n",
    "# perform classification and prediction on samples in x_test\n",
    "y_pred_svm = svm.predict(X_test_1_vec)"
   ]
  },
  {
   "cell_type": "code",
   "execution_count": 31,
   "metadata": {},
   "outputs": [
    {
     "name": "stdout",
     "output_type": "stream",
     "text": [
      "Accuracy score for SVM is:  73.83419689119171 %\n"
     ]
    }
   ],
   "source": [
    "from sklearn.metrics import accuracy_score\n",
    "print(\"Accuracy score for SVM is: \", accuracy_score(y_test_1, y_pred_svm) * 100, '%')"
   ]
  },
  {
   "cell_type": "code",
   "execution_count": 32,
   "metadata": {},
   "outputs": [],
   "source": [
    "from sklearn import svm\n",
    "# classify using support vector classifier\n",
    "svm = svm.SVC(kernel = 'linear', probability=True)\n",
    "\n",
    "# fit the SVC model based on the given training data\n",
    "prob = svm.fit(X_train_2_vec, y_train_2).predict_proba(X_test_2_vec)\n",
    "\n",
    "# perform classification and prediction on samples in x_test\n",
    "y_pred_svm = svm.predict(X_test_2_vec)"
   ]
  },
  {
   "cell_type": "code",
   "execution_count": 33,
   "metadata": {},
   "outputs": [
    {
     "name": "stdout",
     "output_type": "stream",
     "text": [
      "Accuracy score for SVM is:  69.37431394072448 %\n"
     ]
    }
   ],
   "source": [
    "from sklearn.metrics import accuracy_score\n",
    "print(\"Accuracy score for SVM is: \", accuracy_score(y_test_2, y_pred_svm) * 100, '%')"
   ]
  },
  {
   "cell_type": "code",
   "execution_count": null,
   "metadata": {},
   "outputs": [],
   "source": []
  }
 ],
 "metadata": {
  "kernelspec": {
   "display_name": "Python 3",
   "language": "python",
   "name": "python3"
  },
  "language_info": {
   "codemirror_mode": {
    "name": "ipython",
    "version": 3
   },
   "file_extension": ".py",
   "mimetype": "text/x-python",
   "name": "python",
   "nbconvert_exporter": "python",
   "pygments_lexer": "ipython3",
   "version": "3.7.6"
  }
 },
 "nbformat": 4,
 "nbformat_minor": 4
}

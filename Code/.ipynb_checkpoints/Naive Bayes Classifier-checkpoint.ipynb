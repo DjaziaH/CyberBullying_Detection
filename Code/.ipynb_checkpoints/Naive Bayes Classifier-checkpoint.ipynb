{
 "cells": [
  {
   "cell_type": "code",
   "execution_count": 1,
   "metadata": {},
   "outputs": [],
   "source": [
    "import nltk \n",
    "import pandas as pd \n",
    "from nltk import ngrams\n",
    "import numpy as np"
   ]
  },
  {
   "cell_type": "code",
   "execution_count": 61,
   "metadata": {},
   "outputs": [],
   "source": [
    "annotatedData_man = pd.read_csv(\"../Data/PreProcessedYouTubeDataFileAndAnnotated.csv\")\n",
    "annotatedData_man_auto = pd.read_csv(\"../Data/PreProcessedYouTubeDataFileManAndAutoAnnotated.csv\")"
   ]
  },
  {
   "cell_type": "code",
   "execution_count": 62,
   "metadata": {},
   "outputs": [
    {
     "data": {
      "text/html": [
       "<div>\n",
       "<style scoped>\n",
       "    .dataframe tbody tr th:only-of-type {\n",
       "        vertical-align: middle;\n",
       "    }\n",
       "\n",
       "    .dataframe tbody tr th {\n",
       "        vertical-align: top;\n",
       "    }\n",
       "\n",
       "    .dataframe thead th {\n",
       "        text-align: right;\n",
       "    }\n",
       "</style>\n",
       "<table border=\"1\" class=\"dataframe\">\n",
       "  <thead>\n",
       "    <tr style=\"text-align: right;\">\n",
       "      <th></th>\n",
       "      <th>author</th>\n",
       "      <th>authorChannelUrl</th>\n",
       "      <th>text</th>\n",
       "      <th>likeCount</th>\n",
       "      <th>publishedAt</th>\n",
       "      <th>offensive/non offensive</th>\n",
       "      <th>Algerian Dialect</th>\n",
       "    </tr>\n",
       "  </thead>\n",
       "  <tbody>\n",
       "    <tr>\n",
       "      <th>0</th>\n",
       "      <td>Mokran Tarak</td>\n",
       "      <td>http://www.youtube.com/channel/UCles9OFN0Ngktk...</td>\n",
       "      <td>فمك كبير من وجهك تقبلي في كميرة وجهك صحيحة</td>\n",
       "      <td>60</td>\n",
       "      <td>2020-12-24T21:27:56Z</td>\n",
       "      <td>p</td>\n",
       "      <td>NaN</td>\n",
       "    </tr>\n",
       "    <tr>\n",
       "      <th>1</th>\n",
       "      <td>Hicham Absaoui</td>\n",
       "      <td>http://www.youtube.com/channel/UCzuY7uYl2regXl...</td>\n",
       "      <td>سلام الله عليكم ورحمته وبركاته قلولهاةتزول الك...</td>\n",
       "      <td>0</td>\n",
       "      <td>2021-04-23T05:12:41Z</td>\n",
       "      <td>n</td>\n",
       "      <td>NaN</td>\n",
       "    </tr>\n",
       "    <tr>\n",
       "      <th>2</th>\n",
       "      <td>Miss Loona</td>\n",
       "      <td>http://www.youtube.com/channel/UCTnw4ZGfNylgSJ...</td>\n",
       "      <td>افهمي حاجة النداء يكون بصفة الجمع لي مش معني ر...</td>\n",
       "      <td>1</td>\n",
       "      <td>2021-04-22T11:40:22Z</td>\n",
       "      <td>n</td>\n",
       "      <td>NaN</td>\n",
       "    </tr>\n",
       "    <tr>\n",
       "      <th>3</th>\n",
       "      <td>Amani Maryola</td>\n",
       "      <td>http://www.youtube.com/channel/UCBkuU6BHLiKCfN...</td>\n",
       "      <td>مش تقصد رجال اي تقصد خوك باباك يعني كل رجال ال...</td>\n",
       "      <td>1</td>\n",
       "      <td>2021-04-22T09:37:04Z</td>\n",
       "      <td>n</td>\n",
       "      <td>NaN</td>\n",
       "    </tr>\n",
       "    <tr>\n",
       "      <th>4</th>\n",
       "      <td>Miss Loona</td>\n",
       "      <td>http://www.youtube.com/channel/UCTnw4ZGfNylgSJ...</td>\n",
       "      <td>لي غاضتو معناها راهي عليه</td>\n",
       "      <td>2</td>\n",
       "      <td>2021-04-22T09:23:21Z</td>\n",
       "      <td>n</td>\n",
       "      <td>NaN</td>\n",
       "    </tr>\n",
       "  </tbody>\n",
       "</table>\n",
       "</div>"
      ],
      "text/plain": [
       "           author                                   authorChannelUrl  \\\n",
       "0    Mokran Tarak  http://www.youtube.com/channel/UCles9OFN0Ngktk...   \n",
       "1  Hicham Absaoui  http://www.youtube.com/channel/UCzuY7uYl2regXl...   \n",
       "2      Miss Loona  http://www.youtube.com/channel/UCTnw4ZGfNylgSJ...   \n",
       "3   Amani Maryola  http://www.youtube.com/channel/UCBkuU6BHLiKCfN...   \n",
       "4      Miss Loona  http://www.youtube.com/channel/UCTnw4ZGfNylgSJ...   \n",
       "\n",
       "                                                text  likeCount  \\\n",
       "0         فمك كبير من وجهك تقبلي في كميرة وجهك صحيحة         60   \n",
       "1  سلام الله عليكم ورحمته وبركاته قلولهاةتزول الك...          0   \n",
       "2  افهمي حاجة النداء يكون بصفة الجمع لي مش معني ر...          1   \n",
       "3  مش تقصد رجال اي تقصد خوك باباك يعني كل رجال ال...          1   \n",
       "4                          لي غاضتو معناها راهي عليه          2   \n",
       "\n",
       "            publishedAt offensive/non offensive Algerian Dialect  \n",
       "0  2020-12-24T21:27:56Z                       p              NaN  \n",
       "1  2021-04-23T05:12:41Z                       n              NaN  \n",
       "2  2021-04-22T11:40:22Z                       n              NaN  \n",
       "3  2021-04-22T09:37:04Z                       n              NaN  \n",
       "4  2021-04-22T09:23:21Z                       n              NaN  "
      ]
     },
     "execution_count": 62,
     "metadata": {},
     "output_type": "execute_result"
    }
   ],
   "source": [
    "annotatedData_man = annotatedData_man.iloc[:,1:]\n",
    "annotatedData_man.head()"
   ]
  },
  {
   "cell_type": "code",
   "execution_count": 63,
   "metadata": {},
   "outputs": [
    {
     "data": {
      "text/html": [
       "<div>\n",
       "<style scoped>\n",
       "    .dataframe tbody tr th:only-of-type {\n",
       "        vertical-align: middle;\n",
       "    }\n",
       "\n",
       "    .dataframe tbody tr th {\n",
       "        vertical-align: top;\n",
       "    }\n",
       "\n",
       "    .dataframe thead th {\n",
       "        text-align: right;\n",
       "    }\n",
       "</style>\n",
       "<table border=\"1\" class=\"dataframe\">\n",
       "  <thead>\n",
       "    <tr style=\"text-align: right;\">\n",
       "      <th></th>\n",
       "      <th>author</th>\n",
       "      <th>authorChannelUrl</th>\n",
       "      <th>text</th>\n",
       "      <th>likeCount</th>\n",
       "      <th>publishedAt</th>\n",
       "      <th>offensive/non offensive</th>\n",
       "    </tr>\n",
       "  </thead>\n",
       "  <tbody>\n",
       "    <tr>\n",
       "      <th>0</th>\n",
       "      <td>Mokran Tarak</td>\n",
       "      <td>http://www.youtube.com/channel/UCles9OFN0Ngktk...</td>\n",
       "      <td>فمك كبير من وجهك تقبلي في كميرة وجهك صحيحة</td>\n",
       "      <td>60</td>\n",
       "      <td>2020-12-24T21:27:56Z</td>\n",
       "      <td>p</td>\n",
       "    </tr>\n",
       "    <tr>\n",
       "      <th>1</th>\n",
       "      <td>Hicham Absaoui</td>\n",
       "      <td>http://www.youtube.com/channel/UCzuY7uYl2regXl...</td>\n",
       "      <td>سلام الله عليكم ورحمته وبركاته قلولهاةتزول الك...</td>\n",
       "      <td>0</td>\n",
       "      <td>2021-04-23T05:12:41Z</td>\n",
       "      <td>n</td>\n",
       "    </tr>\n",
       "    <tr>\n",
       "      <th>2</th>\n",
       "      <td>Miss Loona</td>\n",
       "      <td>http://www.youtube.com/channel/UCTnw4ZGfNylgSJ...</td>\n",
       "      <td>افهمي حاجة النداء يكون بصفة الجمع لي مش معني ر...</td>\n",
       "      <td>1</td>\n",
       "      <td>2021-04-22T11:40:22Z</td>\n",
       "      <td>n</td>\n",
       "    </tr>\n",
       "    <tr>\n",
       "      <th>3</th>\n",
       "      <td>Amani Maryola</td>\n",
       "      <td>http://www.youtube.com/channel/UCBkuU6BHLiKCfN...</td>\n",
       "      <td>مش تقصد رجال اي تقصد خوك باباك يعني كل رجال ال...</td>\n",
       "      <td>1</td>\n",
       "      <td>2021-04-22T09:37:04Z</td>\n",
       "      <td>n</td>\n",
       "    </tr>\n",
       "    <tr>\n",
       "      <th>4</th>\n",
       "      <td>Miss Loona</td>\n",
       "      <td>http://www.youtube.com/channel/UCTnw4ZGfNylgSJ...</td>\n",
       "      <td>لي غاضتو معناها راهي عليه</td>\n",
       "      <td>2</td>\n",
       "      <td>2021-04-22T09:23:21Z</td>\n",
       "      <td>n</td>\n",
       "    </tr>\n",
       "  </tbody>\n",
       "</table>\n",
       "</div>"
      ],
      "text/plain": [
       "           author                                   authorChannelUrl  \\\n",
       "0    Mokran Tarak  http://www.youtube.com/channel/UCles9OFN0Ngktk...   \n",
       "1  Hicham Absaoui  http://www.youtube.com/channel/UCzuY7uYl2regXl...   \n",
       "2      Miss Loona  http://www.youtube.com/channel/UCTnw4ZGfNylgSJ...   \n",
       "3   Amani Maryola  http://www.youtube.com/channel/UCBkuU6BHLiKCfN...   \n",
       "4      Miss Loona  http://www.youtube.com/channel/UCTnw4ZGfNylgSJ...   \n",
       "\n",
       "                                                text  likeCount  \\\n",
       "0         فمك كبير من وجهك تقبلي في كميرة وجهك صحيحة         60   \n",
       "1  سلام الله عليكم ورحمته وبركاته قلولهاةتزول الك...          0   \n",
       "2  افهمي حاجة النداء يكون بصفة الجمع لي مش معني ر...          1   \n",
       "3  مش تقصد رجال اي تقصد خوك باباك يعني كل رجال ال...          1   \n",
       "4                          لي غاضتو معناها راهي عليه          2   \n",
       "\n",
       "            publishedAt offensive/non offensive  \n",
       "0  2020-12-24T21:27:56Z                       p  \n",
       "1  2021-04-23T05:12:41Z                       n  \n",
       "2  2021-04-22T11:40:22Z                       n  \n",
       "3  2021-04-22T09:37:04Z                       n  \n",
       "4  2021-04-22T09:23:21Z                       n  "
      ]
     },
     "execution_count": 63,
     "metadata": {},
     "output_type": "execute_result"
    }
   ],
   "source": [
    "annotatedData_man_auto = annotatedData_man_auto.iloc[:,1:7]\n",
    "annotatedData_man_auto.head()"
   ]
  },
  {
   "cell_type": "code",
   "execution_count": 64,
   "metadata": {},
   "outputs": [
    {
     "name": "stdout",
     "output_type": "stream",
     "text": [
      "3308\n",
      "2580\n"
     ]
    },
    {
     "data": {
      "text/html": [
       "<div>\n",
       "<style scoped>\n",
       "    .dataframe tbody tr th:only-of-type {\n",
       "        vertical-align: middle;\n",
       "    }\n",
       "\n",
       "    .dataframe tbody tr th {\n",
       "        vertical-align: top;\n",
       "    }\n",
       "\n",
       "    .dataframe thead th {\n",
       "        text-align: right;\n",
       "    }\n",
       "</style>\n",
       "<table border=\"1\" class=\"dataframe\">\n",
       "  <thead>\n",
       "    <tr style=\"text-align: right;\">\n",
       "      <th></th>\n",
       "      <th>author</th>\n",
       "      <th>authorChannelUrl</th>\n",
       "      <th>text</th>\n",
       "      <th>likeCount</th>\n",
       "      <th>publishedAt</th>\n",
       "      <th>offensive/non offensive</th>\n",
       "      <th>auto_annotation</th>\n",
       "      <th>result</th>\n",
       "    </tr>\n",
       "  </thead>\n",
       "  <tbody>\n",
       "    <tr>\n",
       "      <th>0</th>\n",
       "      <td>Mokran Tarak</td>\n",
       "      <td>http://www.youtube.com/channel/UCles9OFN0Ngktk...</td>\n",
       "      <td>فمك كبير من وجهك تقبلي في كميرة وجهك صحيحة</td>\n",
       "      <td>60</td>\n",
       "      <td>2020-12-24T21:27:56Z</td>\n",
       "      <td>p</td>\n",
       "      <td>n</td>\n",
       "      <td>0</td>\n",
       "    </tr>\n",
       "    <tr>\n",
       "      <th>1</th>\n",
       "      <td>Hicham Absaoui</td>\n",
       "      <td>http://www.youtube.com/channel/UCzuY7uYl2regXl...</td>\n",
       "      <td>سلام الله عليكم ورحمته وبركاته قلولهاةتزول الك...</td>\n",
       "      <td>0</td>\n",
       "      <td>2021-04-23T05:12:41Z</td>\n",
       "      <td>n</td>\n",
       "      <td>n</td>\n",
       "      <td>1</td>\n",
       "    </tr>\n",
       "    <tr>\n",
       "      <th>2</th>\n",
       "      <td>Miss Loona</td>\n",
       "      <td>http://www.youtube.com/channel/UCTnw4ZGfNylgSJ...</td>\n",
       "      <td>افهمي حاجة النداء يكون بصفة الجمع لي مش معني ر...</td>\n",
       "      <td>1</td>\n",
       "      <td>2021-04-22T11:40:22Z</td>\n",
       "      <td>n</td>\n",
       "      <td>n</td>\n",
       "      <td>1</td>\n",
       "    </tr>\n",
       "    <tr>\n",
       "      <th>3</th>\n",
       "      <td>Amani Maryola</td>\n",
       "      <td>http://www.youtube.com/channel/UCBkuU6BHLiKCfN...</td>\n",
       "      <td>مش تقصد رجال اي تقصد خوك باباك يعني كل رجال ال...</td>\n",
       "      <td>1</td>\n",
       "      <td>2021-04-22T09:37:04Z</td>\n",
       "      <td>n</td>\n",
       "      <td>n</td>\n",
       "      <td>1</td>\n",
       "    </tr>\n",
       "    <tr>\n",
       "      <th>4</th>\n",
       "      <td>Miss Loona</td>\n",
       "      <td>http://www.youtube.com/channel/UCTnw4ZGfNylgSJ...</td>\n",
       "      <td>لي غاضتو معناها راهي عليه</td>\n",
       "      <td>2</td>\n",
       "      <td>2021-04-22T09:23:21Z</td>\n",
       "      <td>n</td>\n",
       "      <td>n</td>\n",
       "      <td>1</td>\n",
       "    </tr>\n",
       "  </tbody>\n",
       "</table>\n",
       "</div>"
      ],
      "text/plain": [
       "           author                                   authorChannelUrl  \\\n",
       "0    Mokran Tarak  http://www.youtube.com/channel/UCles9OFN0Ngktk...   \n",
       "1  Hicham Absaoui  http://www.youtube.com/channel/UCzuY7uYl2regXl...   \n",
       "2      Miss Loona  http://www.youtube.com/channel/UCTnw4ZGfNylgSJ...   \n",
       "3   Amani Maryola  http://www.youtube.com/channel/UCBkuU6BHLiKCfN...   \n",
       "4      Miss Loona  http://www.youtube.com/channel/UCTnw4ZGfNylgSJ...   \n",
       "\n",
       "                                                text  likeCount  \\\n",
       "0         فمك كبير من وجهك تقبلي في كميرة وجهك صحيحة         60   \n",
       "1  سلام الله عليكم ورحمته وبركاته قلولهاةتزول الك...          0   \n",
       "2  افهمي حاجة النداء يكون بصفة الجمع لي مش معني ر...          1   \n",
       "3  مش تقصد رجال اي تقصد خوك باباك يعني كل رجال ال...          1   \n",
       "4                          لي غاضتو معناها راهي عليه          2   \n",
       "\n",
       "            publishedAt offensive/non offensive auto_annotation  result  \n",
       "0  2020-12-24T21:27:56Z                       p               n       0  \n",
       "1  2021-04-23T05:12:41Z                       n               n       1  \n",
       "2  2021-04-22T11:40:22Z                       n               n       1  \n",
       "3  2021-04-22T09:37:04Z                       n               n       1  \n",
       "4  2021-04-22T09:23:21Z                       n               n       1  "
      ]
     },
     "execution_count": 64,
     "metadata": {},
     "output_type": "execute_result"
    }
   ],
   "source": [
    "print(len(annotatedData_man_auto))\n",
    "print(len(annotatedData_man))\n",
    "annotatedData.head()"
   ]
  },
  {
   "cell_type": "code",
   "execution_count": 18,
   "metadata": {},
   "outputs": [],
   "source": [
    "def remove_non_algerian_dialect(data):\n",
    "    for index in range(len(data)) : \n",
    "        if data.iloc[index][\"Algerian Dialect\"] == \"n\":\n",
    "            data.drop(data.index[index], inplace = True)\n",
    "    return data "
   ]
  },
  {
   "cell_type": "code",
   "execution_count": 65,
   "metadata": {},
   "outputs": [],
   "source": [
    "#annotatedData = annotatedData.iloc[:len(annotatedData),:6]\n",
    "\n",
    "#offensiveComment = pd.DataFrame(columns=['author', 'authorChannelUrl', 'text','likeCount', 'publishedAt', 'offensive/non offensive'])\n",
    "#nonOffensiveComment = pd.DataFrame(columns=['author', 'authorChannelUrl', 'text','likeCount', 'publishedAt', 'offensive/non offensive'])\n",
    "\n",
    "#for index in range(len(annotatedData)):\n",
    "#    if annotatedData.iloc[index][\"offensive/non offensive\"] == \"p\":\n",
    "#        offensiveComment = offensiveComment.append(annotatedData.iloc[index])\n",
    "#    else :\n",
    "#        nonOffensiveComment = nonOffensiveComment.append(annotatedData.iloc[index])\n"
   ]
  },
  {
   "cell_type": "code",
   "execution_count": 66,
   "metadata": {},
   "outputs": [],
   "source": [
    "#print(len(offensiveComment))\n",
    "#print(len(nonOffensiveComment))"
   ]
  },
  {
   "cell_type": "code",
   "execution_count": 68,
   "metadata": {},
   "outputs": [],
   "source": [
    "from sklearn.model_selection import train_test_split\n",
    "\n",
    "testSize = 0.5\n",
    "X_train_man, X_test_man, y_train_man, y_test_man = train_test_split(annotatedData_man, annotatedData_man[\"offensive/non offensive\"], test_size=testSize)\n",
    "X_train_man_auto, X_test_man_auto, y_train_man_auto, y_test_man_auto = train_test_split(annotatedData_man_auto, annotatedData_man_auto[\"offensive/non offensive\"], test_size=testSize)"
   ]
  },
  {
   "cell_type": "code",
   "execution_count": 69,
   "metadata": {},
   "outputs": [
    {
     "name": "stdout",
     "output_type": "stream",
     "text": [
      "(1290, 7)\n",
      "(1290, 7)\n",
      "(1290,)\n",
      "(1290,)\n"
     ]
    }
   ],
   "source": [
    "print(X_train_man.shape)\n",
    "print(X_test_man.shape)\n",
    "print(y_train_man.shape)\n",
    "print(y_test_man.shape)"
   ]
  },
  {
   "cell_type": "code",
   "execution_count": 70,
   "metadata": {},
   "outputs": [
    {
     "name": "stdout",
     "output_type": "stream",
     "text": [
      "(1654, 6)\n",
      "(1654, 6)\n",
      "(1654,)\n",
      "(1654,)\n"
     ]
    }
   ],
   "source": [
    "print(X_train_man_auto.shape)\n",
    "print(X_test_man_auto.shape)\n",
    "print(y_train_man_auto.shape)\n",
    "print(y_test_man_auto.shape)"
   ]
  },
  {
   "cell_type": "code",
   "execution_count": 71,
   "metadata": {},
   "outputs": [],
   "source": [
    "def count_comments(result, comments, ys):\n",
    "    '''\n",
    "    Input:\n",
    "        result: a dictionary that will be used to map each pair to its frequency\n",
    "        comments: a list of comments\n",
    "        ys: a list corresponding to the class of each comment ( 'p' if offensive 'n' otherwise )\n",
    "    Output:\n",
    "        result: a dictionary mapping each pair to its frequency\n",
    "    '''\n",
    "    \n",
    "    for y, comment in zip(ys, comments):\n",
    "        for n in [1,2,3,4]:\n",
    "            commentNgrams = ngrams(comment.split(), n)\n",
    "            for grams in commentNgrams:\n",
    "                # define the key, which is the word and label tuple\n",
    "                pair = (' '.join(grams) , y)\n",
    "\n",
    "                # if the key exists in the dictionary, increment the count\n",
    "                if pair in result:\n",
    "                    result[pair] += 1\n",
    "\n",
    "                # else, if the key is new, add it to the dictionary and set the count to 1\n",
    "                else:\n",
    "                    result[pair] = 1\n",
    "\n",
    "    return result"
   ]
  },
  {
   "cell_type": "code",
   "execution_count": 72,
   "metadata": {},
   "outputs": [],
   "source": [
    "freq_man = count_comments({},X_train_man[\"text\"],y_train_man)\n",
    "freq_man_auto = count_comments({},X_train_man_auto[\"text\"],y_train_man_auto)"
   ]
  },
  {
   "cell_type": "code",
   "execution_count": 73,
   "metadata": {},
   "outputs": [
    {
     "name": "stdout",
     "output_type": "stream",
     "text": [
      "52546\n",
      "81690\n"
     ]
    }
   ],
   "source": [
    "print(len(freq_man))\n",
    "print(len(freq_man_auto))"
   ]
  },
  {
   "cell_type": "code",
   "execution_count": 74,
   "metadata": {},
   "outputs": [],
   "source": [
    "def train_naive_bayes(freqs, train_x, train_y):\n",
    "    '''\n",
    "    Input:\n",
    "        freqs: dictionary from (ngram, label) to how often the ngram appears\n",
    "        train_x: a list of comments\n",
    "        train_y: a list of labels correponding to the comments ('p','n')\n",
    "    Output:\n",
    "        logprior: the log prior.\n",
    "        loglikelihood: the log likelihood of you Naive bayes equation.\n",
    "    '''\n",
    "    loglikelihood = {}\n",
    "    logprior = 0\n",
    "\n",
    " \n",
    "    # calculate V, the number of unique ngrams in the vocabulary\n",
    "    vocab = set([pair[0] for pair in freqs.keys()])\n",
    "    V = len(vocab)\n",
    "\n",
    "    # calculate N_offensive and N_non_offensive\n",
    "    N_offensive = N_non_offensive = 0\n",
    "    for pair in freqs.keys():\n",
    "        # if the comment is offensive (p)\n",
    "        if pair[1] == \"p\":\n",
    "\n",
    "            # Increment the number of offensive ngrams by the count for this (ngram, label) pair\n",
    "            N_offensive += freqs.get(pair,0)\n",
    "\n",
    "        # else, the comment is non offensive\n",
    "        else:\n",
    "\n",
    "            # increment the number of non offensive ngrams by the count for this (ngram,label) pair\n",
    "            N_non_offensive += freqs.get(pair,0)\n",
    "\n",
    "    # Calculate C, the number of comments\n",
    "    C = len(train_y)\n",
    "\n",
    "    # Calculate C_offensive, the number of offensive comments\n",
    "    C_offensive = 0\n",
    "    for index in range(len(train_y)) :\n",
    "        if train_y.iloc[index] == \"p\":\n",
    "            C_offensive += 1\n",
    "\n",
    "    # Calculate C_non_offensive, the number of non offensive comments\n",
    "    C_non_offensive = C - C_offensive\n",
    "\n",
    "    # Calculate logprior\n",
    "    logprior = np.log(C_offensive/C_non_offensive)\n",
    "\n",
    "    # For each word in the vocabulary...\n",
    "    for word in vocab:\n",
    "        # get the offensive and non offensive frequency of the word\n",
    "        freq_offensive = freqs.get((word,\"p\"),0)\n",
    "        freq_non_offensive = freqs.get((word,\"n\"),0)\n",
    "\n",
    "        # calculate the probability that each word is offensive, and non offensive\n",
    "        p_w_offensive = (freq_offensive + 1 ) / (C_offensive + V)\n",
    "        p_w_non_offensive = (freq_non_offensive + 1 ) / (C_non_offensive + V)\n",
    "\n",
    "        # calculate the log likelihood of the word\n",
    "        loglikelihood[word] = np.log(p_w_offensive) - np.log(p_w_non_offensive)\n",
    "\n",
    "\n",
    "    return logprior, loglikelihood\n"
   ]
  },
  {
   "cell_type": "code",
   "execution_count": 76,
   "metadata": {},
   "outputs": [
    {
     "name": "stdout",
     "output_type": "stream",
     "text": [
      "0.2556468493938289\n",
      "51082\n"
     ]
    }
   ],
   "source": [
    "logprior_man, loglikelihood_man = train_naive_bayes(freq_man, X_train_man, y_train_man)\n",
    "print(logprior_man)\n",
    "\n",
    "print(len(loglikelihood_man))"
   ]
  },
  {
   "cell_type": "code",
   "execution_count": 77,
   "metadata": {},
   "outputs": [
    {
     "name": "stdout",
     "output_type": "stream",
     "text": [
      "0.5896681330018245\n",
      "79634\n"
     ]
    }
   ],
   "source": [
    "logprior_man_auto, loglikelihood_man_auto = train_naive_bayes(freq_man_auto, X_train_man_auto, y_train_man_auto)\n",
    "print(logprior_man_auto)\n",
    "\n",
    "print(len(loglikelihood_man_auto))"
   ]
  },
  {
   "cell_type": "code",
   "execution_count": 78,
   "metadata": {},
   "outputs": [],
   "source": [
    "def naive_bayes_predict(comment, logprior, loglikelihood):\n",
    "    '''\n",
    "    Input:\n",
    "        comment: a string\n",
    "        logprior: a number\n",
    "        loglikelihood: a dictionary of words mapping to numbers\n",
    "    Output:\n",
    "        p: the sum of all the logliklihoods of each word in the comment (if found in the dictionary) + logprior (a number)\n",
    "\n",
    "    '''\n",
    "    # initialize probability to zero\n",
    "    p = 0\n",
    "\n",
    "    # add the logprior\n",
    "    p += logprior \n",
    "\n",
    "    for n in [1,2,3,4]:\n",
    "        commentNgrams = ngrams(comment.split(), n)\n",
    "        for grams in commentNgrams:\n",
    "            word = ' '.join(grams)\n",
    "            # check if the word exists in the loglikelihood dictionary\n",
    "            if word in loglikelihood:\n",
    "                # add the log likelihood of that word to the probability\n",
    "                p += loglikelihood.get(word)\n",
    "\n",
    "    return p\n"
   ]
  },
  {
   "cell_type": "code",
   "execution_count": 37,
   "metadata": {},
   "outputs": [
    {
     "name": "stdout",
     "output_type": "stream",
     "text": [
      "The expected output is 0.95487170158817\n"
     ]
    }
   ],
   "source": [
    "my_comment = \"خرا\"\n",
    "p = naive_bayes_predict(my_comment, logprior, loglikelihood)\n",
    "print('The expected output is', p)"
   ]
  },
  {
   "cell_type": "code",
   "execution_count": 79,
   "metadata": {},
   "outputs": [],
   "source": [
    "def test_naive_bayes(test_x, test_y, logprior, loglikelihood):\n",
    "    \"\"\"\n",
    "    Input:\n",
    "        test_x: A list of comments\n",
    "        test_y: the corresponding labels for the list of comments\n",
    "        logprior: the logprior\n",
    "        loglikelihood: a dictionary with the loglikelihoods for each word\n",
    "    Output:\n",
    "        accuracy: (# of comments classified correctly)/(total # of comments)\n",
    "    \"\"\"\n",
    "    accuracy = 0   \n",
    "\n",
    "    y_hats = []\n",
    "    for index in range(len(test_x)):\n",
    "        comment = test_x.iloc[index][\"text\"]\n",
    "        \n",
    "        for index in range(len(test_y)):\n",
    "            if test_y.iloc[index] == \"n\":\n",
    "                test_y.iloc[index] = 0\n",
    "            else :\n",
    "                test_y.iloc[index] = 1\n",
    "        \n",
    "        # if the prediction is > 0\n",
    "        if naive_bayes_predict(comment, logprior, loglikelihood) > 0:\n",
    "            # the predicted class is 1 \"Offensive\"\n",
    "            y_hat_i = 1\n",
    "        else:\n",
    "            # otherwise the predicted class is 0 \"Non Offensive\"\n",
    "            y_hat_i = 0\n",
    "\n",
    "        # append the predicted class to the list y_hats\n",
    "        y_hats.append(y_hat_i)\n",
    "\n",
    "    # error is the average of the absolute values of the differences between y_hats and test_y\n",
    "    error = np.mean(np.absolute(y_hats - test_y))\n",
    "\n",
    "    # Accuracy is 1 minus the error\n",
    "    accuracy = 1- error\n",
    "\n",
    "\n",
    "    return accuracy\n"
   ]
  },
  {
   "cell_type": "code",
   "execution_count": 80,
   "metadata": {},
   "outputs": [
    {
     "name": "stdout",
     "output_type": "stream",
     "text": [
      "Data manually annotated : Naive Bayes accuracy = 0.6992\n"
     ]
    }
   ],
   "source": [
    "print(\"Data manually annotated : Naive Bayes accuracy = %0.4f\" %\n",
    "      (test_naive_bayes(X_test_man, y_test_man, logprior_man, loglikelihood_man)))"
   ]
  },
  {
   "cell_type": "code",
   "execution_count": 83,
   "metadata": {},
   "outputs": [
    {
     "name": "stdout",
     "output_type": "stream",
     "text": [
      "Data manually and auto annotated : Naive Bayes accuracy = 0.9323\n"
     ]
    }
   ],
   "source": [
    "print(\"Data manually and auto annotated : Naive Bayes accuracy = %0.4f\" %\n",
    "      (test_naive_bayes(X_test_man_auto, y_test_man_auto, logprior_man_auto, loglikelihood_man_auto)))"
   ]
  },
  {
   "cell_type": "code",
   "execution_count": null,
   "metadata": {},
   "outputs": [],
   "source": []
  }
 ],
 "metadata": {
  "kernelspec": {
   "display_name": "Python 3",
   "language": "python",
   "name": "python3"
  },
  "language_info": {
   "codemirror_mode": {
    "name": "ipython",
    "version": 3
   },
   "file_extension": ".py",
   "mimetype": "text/x-python",
   "name": "python",
   "nbconvert_exporter": "python",
   "pygments_lexer": "ipython3",
   "version": "3.7.6"
  }
 },
 "nbformat": 4,
 "nbformat_minor": 4
}

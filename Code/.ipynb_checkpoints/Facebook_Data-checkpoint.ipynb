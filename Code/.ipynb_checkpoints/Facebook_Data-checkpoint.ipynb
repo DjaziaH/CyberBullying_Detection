{
 "cells": [
  {
   "cell_type": "code",
   "execution_count": 1,
   "metadata": {
    "scrolled": true
   },
   "outputs": [],
   "source": [
    "from facebook_scraper import get_posts\n",
    "from pandas import DataFrame"
   ]
  },
  {
   "cell_type": "code",
   "execution_count": 3,
   "metadata": {},
   "outputs": [],
   "source": [
    "posts = get_posts('mzitout',options={\"comments\": True,\"reactors\": True})"
   ]
  },
  {
   "cell_type": "code",
   "execution_count": null,
   "metadata": {
    "scrolled": true
   },
   "outputs": [
    {
     "name": "stdout",
     "output_type": "stream",
     "text": [
      "{'post_id': '4014791321923463', 'text': 'مجموعات من ناهبي أموال الشعب في غرفة تصفيق... هذا هو برلمان نظام العصابات', 'post_text': 'مجموعات من ناهبي أموال الشعب في غرفة تصفيق... هذا هو برلمان نظام العصابات', 'shared_text': '', 'time': datetime.datetime(2021, 5, 10, 15, 13, 39), 'image': None, 'images': None, 'video': 'https://video.falg7-2.fna.fbcdn.net/v/t42.1790-2/10000000_519850189014387_1655463628708886502_n.mp4?_nc_cat=109&ccb=1-3&_nc_sid=985c63&efg=eyJ2ZW5jb2RlX3RhZyI6InN2ZV9zZCJ9&_nc_ohc=YVomQltJt2EAX-OzHYQ&_nc_ht=video.falg7-2.fna&oh=2a8119d78cc9a6b9a635c74a58aff374&oe=60996131', 'video_thumbnail': 'https://scontent.falg7-2.fna.fbcdn.net/v/t15.5256-10/cp0/e15/q65/s320x320/169022826_215026810136319_5468010965419549611_n.jpg?_nc_cat=102&ccb=1-3&_nc_sid=ccf8b3&_nc_ohc=oIILQlnKTNEAX9t7TnM&_nc_oc=AQkP9cxOCwQ_cewXtNYyICfRwBS3qky9S4ISG2udSJ2YDBCypWniIEESJ-G_pIikUw4&_nc_ht=scontent.falg7-2.fna&tp=9&oh=421a5e24bbc704cf22f3509629bfe51a&oe=60BFB633', 'video_id': '213620146943652', 'likes': 144, 'comments': 7, 'shares': 0, 'post_url': 'https://facebook.com/mzitout/videos/213620146943652', 'link': None, 'user_id': '135967053139262', 'username': 'Mohamed Larbi Zitout محمد العربي زيتوت', 'is_live': False, 'factcheck': None, 'shared_post_id': None, 'shared_time': None, 'shared_user_id': None, 'shared_username': None, 'shared_post_url': None, 'available': True, 'comments_full': [], 'reactors': None, 'w3_fb_url': None}\n",
      "-------------------------------\n"
     ]
    }
   ],
   "source": [
    "for post in posts:\n",
    "    print(post)\n",
    "    print(\"-------------------------------\")"
   ]
  },
  {
   "cell_type": "code",
   "execution_count": 54,
   "metadata": {},
   "outputs": [
    {
     "name": "stdout",
     "output_type": "stream",
     "text": [
      "<generator object FacebookScraper.get_posts_by_url at 0x000002DF1B543E48>\n"
     ]
    }
   ],
   "source": [
    "posts__ = get_posts(options={\"comments\": True},post_urls=\"https://www.facebook.com/mzitout/posts/3971401979595731\")\n",
    "print(posts__)"
   ]
  },
  {
   "cell_type": "code",
   "execution_count": 59,
   "metadata": {},
   "outputs": [
    {
     "name": "stderr",
     "output_type": "stream",
     "text": [
      "WARNING:facebook_scraper.facebook_scraper:No raw posts (<article> elements) were found in this page.\n",
      "WARNING:facebook_scraper.extractors:[None] Exception while running extract_post_id: AttributeError(\"'NoneType' object has no attribute 'attrs'\")\n",
      "WARNING:facebook_scraper.extractors:[None] Exception while running extract_text: AttributeError(\"'NoneType' object has no attribute 'html'\")\n",
      "WARNING:facebook_scraper.extractors:[None] Exception while running extract_time: AttributeError(\"'NoneType' object has no attribute 'find'\")\n",
      "WARNING:facebook_scraper.extractors:[None] Exception while running extract_image: AttributeError(\"'NoneType' object has no attribute 'html'\")\n",
      "WARNING:facebook_scraper.extractors:[None] Exception while running extract_likes: AttributeError(\"'NoneType' object has no attribute 'find'\")\n",
      "WARNING:facebook_scraper.extractors:[None] Exception while running extract_comments: AttributeError(\"'NoneType' object has no attribute 'find'\")\n",
      "WARNING:facebook_scraper.extractors:[None] Exception while running extract_shares: AttributeError(\"'NoneType' object has no attribute 'find'\")\n",
      "WARNING:facebook_scraper.extractors:[None] Exception while running extract_post_url: AttributeError(\"'NoneType' object has no attribute 'find'\")\n",
      "WARNING:facebook_scraper.extractors:[None] Exception while running extract_link: AttributeError(\"'NoneType' object has no attribute 'html'\")\n",
      "WARNING:facebook_scraper.extractors:[None] Exception while running extract_user_id: KeyError('content_owner_id_new')\n",
      "WARNING:facebook_scraper.extractors:[None] Exception while running extract_username: AttributeError(\"'NoneType' object has no attribute 'find'\")\n",
      "WARNING:facebook_scraper.extractors:[None] Exception while running extract_video: AttributeError(\"'NoneType' object has no attribute 'find'\")\n",
      "WARNING:facebook_scraper.extractors:[None] Exception while running extract_video_thumbnail: AttributeError(\"'NoneType' object has no attribute 'find'\")\n",
      "WARNING:facebook_scraper.extractors:[None] Exception while running extract_video_id: AttributeError(\"'NoneType' object has no attribute 'html'\")\n",
      "WARNING:facebook_scraper.extractors:[None] Exception while running extract_is_live: AttributeError(\"'NoneType' object has no attribute 'find'\")\n",
      "WARNING:facebook_scraper.extractors:[None] Exception while running extract_factcheck: AttributeError(\"'NoneType' object has no attribute 'find'\")\n",
      "WARNING:facebook_scraper.extractors:[None] Extract method extract_share_information didn't return anything\n",
      "WARNING:facebook_scraper.extractors:[None] Exception while running extract_availability: AttributeError(\"'NoneType' object has no attribute 'html'\")\n",
      "WARNING:facebook_scraper.extractors:[None] Exception while extracting comments: AttributeError(\"'NoneType' object has no attribute 'replace'\")\n"
     ]
    },
    {
     "name": "stdout",
     "output_type": "stream",
     "text": [
      "{'post_id': None, 'text': None, 'post_text': None, 'shared_text': None, 'time': None, 'image': None, 'images': None, 'video': None, 'video_thumbnail': None, 'video_id': None, 'likes': None, 'comments': None, 'shares': None, 'post_url': None, 'link': None, 'user_id': None, 'username': None, 'is_live': False, 'factcheck': None, 'shared_post_id': None, 'shared_time': None, 'shared_user_id': None, 'shared_username': None, 'shared_post_url': None, 'available': None, 'comments_full': None, 'reactors': None, 'w3_fb_url': None}\n",
      "-------------------------------\n"
     ]
    },
    {
     "name": "stderr",
     "output_type": "stream",
     "text": [
      "WARNING:facebook_scraper.facebook_scraper:No raw posts (<article> elements) were found in this page.\n",
      "WARNING:facebook_scraper.extractors:[None] Exception while running extract_post_id: AttributeError(\"'NoneType' object has no attribute 'attrs'\")\n",
      "WARNING:facebook_scraper.extractors:[None] Exception while running extract_text: AttributeError(\"'NoneType' object has no attribute 'html'\")\n",
      "WARNING:facebook_scraper.extractors:[None] Exception while running extract_time: AttributeError(\"'NoneType' object has no attribute 'find'\")\n",
      "WARNING:facebook_scraper.extractors:[None] Exception while running extract_image: AttributeError(\"'NoneType' object has no attribute 'html'\")\n",
      "WARNING:facebook_scraper.extractors:[None] Exception while running extract_likes: AttributeError(\"'NoneType' object has no attribute 'find'\")\n",
      "WARNING:facebook_scraper.extractors:[None] Exception while running extract_comments: AttributeError(\"'NoneType' object has no attribute 'find'\")\n",
      "WARNING:facebook_scraper.extractors:[None] Exception while running extract_shares: AttributeError(\"'NoneType' object has no attribute 'find'\")\n",
      "WARNING:facebook_scraper.extractors:[None] Exception while running extract_post_url: AttributeError(\"'NoneType' object has no attribute 'find'\")\n",
      "WARNING:facebook_scraper.extractors:[None] Exception while running extract_link: AttributeError(\"'NoneType' object has no attribute 'html'\")\n",
      "WARNING:facebook_scraper.extractors:[None] Exception while running extract_user_id: KeyError('content_owner_id_new')\n",
      "WARNING:facebook_scraper.extractors:[None] Exception while running extract_username: AttributeError(\"'NoneType' object has no attribute 'find'\")\n",
      "WARNING:facebook_scraper.extractors:[None] Exception while running extract_video: AttributeError(\"'NoneType' object has no attribute 'find'\")\n",
      "WARNING:facebook_scraper.extractors:[None] Exception while running extract_video_thumbnail: AttributeError(\"'NoneType' object has no attribute 'find'\")\n",
      "WARNING:facebook_scraper.extractors:[None] Exception while running extract_video_id: AttributeError(\"'NoneType' object has no attribute 'html'\")\n",
      "WARNING:facebook_scraper.extractors:[None] Exception while running extract_is_live: AttributeError(\"'NoneType' object has no attribute 'find'\")\n",
      "WARNING:facebook_scraper.extractors:[None] Exception while running extract_factcheck: AttributeError(\"'NoneType' object has no attribute 'find'\")\n",
      "WARNING:facebook_scraper.extractors:[None] Extract method extract_share_information didn't return anything\n",
      "WARNING:facebook_scraper.extractors:[None] Exception while running extract_availability: AttributeError(\"'NoneType' object has no attribute 'html'\")\n",
      "WARNING:facebook_scraper.extractors:[None] Exception while extracting comments: AttributeError(\"'NoneType' object has no attribute 'replace'\")\n"
     ]
    },
    {
     "name": "stdout",
     "output_type": "stream",
     "text": [
      "{'post_id': None, 'text': None, 'post_text': None, 'shared_text': None, 'time': None, 'image': None, 'images': None, 'video': None, 'video_thumbnail': None, 'video_id': None, 'likes': None, 'comments': None, 'shares': None, 'post_url': None, 'link': None, 'user_id': None, 'username': None, 'is_live': False, 'factcheck': None, 'shared_post_id': None, 'shared_time': None, 'shared_user_id': None, 'shared_username': None, 'shared_post_url': None, 'available': None, 'comments_full': None, 'reactors': None, 'w3_fb_url': None}\n",
      "-------------------------------\n"
     ]
    },
    {
     "name": "stderr",
     "output_type": "stream",
     "text": [
      "WARNING:facebook_scraper.facebook_scraper:No raw posts (<article> elements) were found in this page.\n",
      "WARNING:facebook_scraper.extractors:[None] Exception while running extract_post_id: AttributeError(\"'NoneType' object has no attribute 'attrs'\")\n",
      "WARNING:facebook_scraper.extractors:[None] Exception while running extract_text: AttributeError(\"'NoneType' object has no attribute 'html'\")\n",
      "WARNING:facebook_scraper.extractors:[None] Exception while running extract_time: AttributeError(\"'NoneType' object has no attribute 'find'\")\n",
      "WARNING:facebook_scraper.extractors:[None] Exception while running extract_image: AttributeError(\"'NoneType' object has no attribute 'html'\")\n",
      "WARNING:facebook_scraper.extractors:[None] Exception while running extract_likes: AttributeError(\"'NoneType' object has no attribute 'find'\")\n",
      "WARNING:facebook_scraper.extractors:[None] Exception while running extract_comments: AttributeError(\"'NoneType' object has no attribute 'find'\")\n",
      "WARNING:facebook_scraper.extractors:[None] Exception while running extract_shares: AttributeError(\"'NoneType' object has no attribute 'find'\")\n",
      "WARNING:facebook_scraper.extractors:[None] Exception while running extract_post_url: AttributeError(\"'NoneType' object has no attribute 'find'\")\n",
      "WARNING:facebook_scraper.extractors:[None] Exception while running extract_link: AttributeError(\"'NoneType' object has no attribute 'html'\")\n",
      "WARNING:facebook_scraper.extractors:[None] Exception while running extract_user_id: KeyError('content_owner_id_new')\n",
      "WARNING:facebook_scraper.extractors:[None] Exception while running extract_username: AttributeError(\"'NoneType' object has no attribute 'find'\")\n",
      "WARNING:facebook_scraper.extractors:[None] Exception while running extract_video: AttributeError(\"'NoneType' object has no attribute 'find'\")\n",
      "WARNING:facebook_scraper.extractors:[None] Exception while running extract_video_thumbnail: AttributeError(\"'NoneType' object has no attribute 'find'\")\n",
      "WARNING:facebook_scraper.extractors:[None] Exception while running extract_video_id: AttributeError(\"'NoneType' object has no attribute 'html'\")\n",
      "WARNING:facebook_scraper.extractors:[None] Exception while running extract_is_live: AttributeError(\"'NoneType' object has no attribute 'find'\")\n",
      "WARNING:facebook_scraper.extractors:[None] Exception while running extract_factcheck: AttributeError(\"'NoneType' object has no attribute 'find'\")\n",
      "WARNING:facebook_scraper.extractors:[None] Extract method extract_share_information didn't return anything\n",
      "WARNING:facebook_scraper.extractors:[None] Exception while running extract_availability: AttributeError(\"'NoneType' object has no attribute 'html'\")\n",
      "WARNING:facebook_scraper.extractors:[None] Exception while extracting comments: AttributeError(\"'NoneType' object has no attribute 'replace'\")\n",
      "ERROR:facebook_scraper.facebook_scraper:Exception while requesting URL: https://m.facebook.com/t\n",
      "Exception: HTTPError('404 Client Error: Not Found for url: https://m.facebook.com/t')\n",
      "Traceback (most recent call last):\n",
      "  File \"C:\\Users\\djazia\\AppData\\Roaming\\Python\\Python37\\site-packages\\facebook_scraper\\facebook_scraper.py\", line 142, in get\n",
      "    response.raise_for_status()\n",
      "  File \"C:\\ProgramData\\Anaconda3\\lib\\site-packages\\requests\\models.py\", line 940, in raise_for_status\n",
      "    raise HTTPError(http_error_msg, response=self)\n",
      "requests.exceptions.HTTPError: 404 Client Error: Not Found for url: https://m.facebook.com/t\n"
     ]
    },
    {
     "name": "stdout",
     "output_type": "stream",
     "text": [
      "{'post_id': None, 'text': None, 'post_text': None, 'shared_text': None, 'time': None, 'image': None, 'images': None, 'video': None, 'video_thumbnail': None, 'video_id': None, 'likes': None, 'comments': None, 'shares': None, 'post_url': None, 'link': None, 'user_id': None, 'username': None, 'is_live': False, 'factcheck': None, 'shared_post_id': None, 'shared_time': None, 'shared_user_id': None, 'shared_username': None, 'shared_post_url': None, 'available': None, 'comments_full': None, 'reactors': None, 'w3_fb_url': None}\n",
      "-------------------------------\n"
     ]
    },
    {
     "ename": "HTTPError",
     "evalue": "404 Client Error: Not Found for url: https://m.facebook.com/t",
     "output_type": "error",
     "traceback": [
      "\u001b[1;31m---------------------------------------------------------------------------\u001b[0m",
      "\u001b[1;31mHTTPError\u001b[0m                                 Traceback (most recent call last)",
      "\u001b[1;32m<ipython-input-59-21c9024bda96>\u001b[0m in \u001b[0;36m<module>\u001b[1;34m\u001b[0m\n\u001b[0;32m      1\u001b[0m \u001b[0mposts__\u001b[0m \u001b[1;33m=\u001b[0m \u001b[0mget_posts\u001b[0m\u001b[1;33m(\u001b[0m\u001b[0mpost_urls\u001b[0m\u001b[1;33m=\u001b[0m\u001b[1;34m\"mzitout/posts/3971401979595731\"\u001b[0m\u001b[1;33m,\u001b[0m\u001b[0moptions\u001b[0m\u001b[1;33m=\u001b[0m\u001b[1;33m{\u001b[0m\u001b[1;34m\"comments\"\u001b[0m\u001b[1;33m:\u001b[0m \u001b[1;32mTrue\u001b[0m\u001b[1;33m}\u001b[0m\u001b[1;33m)\u001b[0m\u001b[1;33m\u001b[0m\u001b[1;33m\u001b[0m\u001b[0m\n\u001b[1;32m----> 2\u001b[1;33m \u001b[1;32mfor\u001b[0m \u001b[0mpost\u001b[0m \u001b[1;32min\u001b[0m \u001b[0mposts__\u001b[0m\u001b[1;33m:\u001b[0m\u001b[1;33m\u001b[0m\u001b[1;33m\u001b[0m\u001b[0m\n\u001b[0m\u001b[0;32m      3\u001b[0m     \u001b[0mprint\u001b[0m\u001b[1;33m(\u001b[0m\u001b[0mpost\u001b[0m\u001b[1;33m)\u001b[0m\u001b[1;33m\u001b[0m\u001b[1;33m\u001b[0m\u001b[0m\n\u001b[0;32m      4\u001b[0m     \u001b[0mprint\u001b[0m\u001b[1;33m(\u001b[0m\u001b[1;34m\"-------------------------------\"\u001b[0m\u001b[1;33m)\u001b[0m\u001b[1;33m\u001b[0m\u001b[1;33m\u001b[0m\u001b[0m\n",
      "\u001b[1;32m~\\AppData\\Roaming\\Python\\Python37\\site-packages\\facebook_scraper\\facebook_scraper.py\u001b[0m in \u001b[0;36mget_posts_by_url\u001b[1;34m(self, post_urls, options, remove_source)\u001b[0m\n\u001b[0;32m     54\u001b[0m                 \u001b[0mpost_url\u001b[0m \u001b[1;33m=\u001b[0m \u001b[0mutils\u001b[0m\u001b[1;33m.\u001b[0m\u001b[0murljoin\u001b[0m\u001b[1;33m(\u001b[0m\u001b[0mFB_MOBILE_BASE_URL\u001b[0m\u001b[1;33m,\u001b[0m \u001b[0mpost_url\u001b[0m\u001b[1;33m)\u001b[0m\u001b[1;33m\u001b[0m\u001b[1;33m\u001b[0m\u001b[0m\n\u001b[0;32m     55\u001b[0m             \u001b[0mlogger\u001b[0m\u001b[1;33m.\u001b[0m\u001b[0mdebug\u001b[0m\u001b[1;33m(\u001b[0m\u001b[1;34mf\"Requesting page from: {post_url}\"\u001b[0m\u001b[1;33m)\u001b[0m\u001b[1;33m\u001b[0m\u001b[1;33m\u001b[0m\u001b[0m\n\u001b[1;32m---> 56\u001b[1;33m             \u001b[0mresponse\u001b[0m \u001b[1;33m=\u001b[0m \u001b[0mself\u001b[0m\u001b[1;33m.\u001b[0m\u001b[0mget\u001b[0m\u001b[1;33m(\u001b[0m\u001b[0mpost_url\u001b[0m\u001b[1;33m)\u001b[0m\u001b[1;33m\u001b[0m\u001b[1;33m\u001b[0m\u001b[0m\n\u001b[0m\u001b[0;32m     57\u001b[0m             \u001b[0melem\u001b[0m \u001b[1;33m=\u001b[0m \u001b[0mresponse\u001b[0m\u001b[1;33m.\u001b[0m\u001b[0mhtml\u001b[0m\u001b[1;33m.\u001b[0m\u001b[0mfind\u001b[0m\u001b[1;33m(\u001b[0m\u001b[1;34m'article[data-ft],div.async_like[data-ft]'\u001b[0m\u001b[1;33m,\u001b[0m \u001b[0mfirst\u001b[0m\u001b[1;33m=\u001b[0m\u001b[1;32mTrue\u001b[0m\u001b[1;33m)\u001b[0m\u001b[1;33m\u001b[0m\u001b[1;33m\u001b[0m\u001b[0m\n\u001b[0;32m     58\u001b[0m             \u001b[1;32mif\u001b[0m \u001b[1;32mnot\u001b[0m \u001b[0melem\u001b[0m\u001b[1;33m:\u001b[0m\u001b[1;33m\u001b[0m\u001b[1;33m\u001b[0m\u001b[0m\n",
      "\u001b[1;32m~\\AppData\\Roaming\\Python\\Python37\\site-packages\\facebook_scraper\\facebook_scraper.py\u001b[0m in \u001b[0;36mget\u001b[1;34m(self, url, **kwargs)\u001b[0m\n\u001b[0;32m    140\u001b[0m             \u001b[0mresponse\u001b[0m \u001b[1;33m=\u001b[0m \u001b[0mself\u001b[0m\u001b[1;33m.\u001b[0m\u001b[0msession\u001b[0m\u001b[1;33m.\u001b[0m\u001b[0mget\u001b[0m\u001b[1;33m(\u001b[0m\u001b[0murl\u001b[0m\u001b[1;33m=\u001b[0m\u001b[0murl\u001b[0m\u001b[1;33m,\u001b[0m \u001b[1;33m**\u001b[0m\u001b[0mself\u001b[0m\u001b[1;33m.\u001b[0m\u001b[0mrequests_kwargs\u001b[0m\u001b[1;33m,\u001b[0m \u001b[1;33m**\u001b[0m\u001b[0mkwargs\u001b[0m\u001b[1;33m)\u001b[0m\u001b[1;33m\u001b[0m\u001b[1;33m\u001b[0m\u001b[0m\n\u001b[0;32m    141\u001b[0m             \u001b[0mresponse\u001b[0m\u001b[1;33m.\u001b[0m\u001b[0mhtml\u001b[0m\u001b[1;33m.\u001b[0m\u001b[0mhtml\u001b[0m \u001b[1;33m=\u001b[0m \u001b[0mresponse\u001b[0m\u001b[1;33m.\u001b[0m\u001b[0mhtml\u001b[0m\u001b[1;33m.\u001b[0m\u001b[0mhtml\u001b[0m\u001b[1;33m.\u001b[0m\u001b[0mreplace\u001b[0m\u001b[1;33m(\u001b[0m\u001b[1;34m'<!--'\u001b[0m\u001b[1;33m,\u001b[0m \u001b[1;34m''\u001b[0m\u001b[1;33m)\u001b[0m\u001b[1;33m.\u001b[0m\u001b[0mreplace\u001b[0m\u001b[1;33m(\u001b[0m\u001b[1;34m'-->'\u001b[0m\u001b[1;33m,\u001b[0m \u001b[1;34m''\u001b[0m\u001b[1;33m)\u001b[0m\u001b[1;33m\u001b[0m\u001b[1;33m\u001b[0m\u001b[0m\n\u001b[1;32m--> 142\u001b[1;33m             \u001b[0mresponse\u001b[0m\u001b[1;33m.\u001b[0m\u001b[0mraise_for_status\u001b[0m\u001b[1;33m(\u001b[0m\u001b[1;33m)\u001b[0m\u001b[1;33m\u001b[0m\u001b[1;33m\u001b[0m\u001b[0m\n\u001b[0m\u001b[0;32m    143\u001b[0m             \u001b[1;32mreturn\u001b[0m \u001b[0mresponse\u001b[0m\u001b[1;33m\u001b[0m\u001b[1;33m\u001b[0m\u001b[0m\n\u001b[0;32m    144\u001b[0m         \u001b[1;32mexcept\u001b[0m \u001b[0mRequestException\u001b[0m \u001b[1;32mas\u001b[0m \u001b[0mex\u001b[0m\u001b[1;33m:\u001b[0m\u001b[1;33m\u001b[0m\u001b[1;33m\u001b[0m\u001b[0m\n",
      "\u001b[1;32mC:\\ProgramData\\Anaconda3\\lib\\site-packages\\requests\\models.py\u001b[0m in \u001b[0;36mraise_for_status\u001b[1;34m(self)\u001b[0m\n\u001b[0;32m    938\u001b[0m \u001b[1;33m\u001b[0m\u001b[0m\n\u001b[0;32m    939\u001b[0m         \u001b[1;32mif\u001b[0m \u001b[0mhttp_error_msg\u001b[0m\u001b[1;33m:\u001b[0m\u001b[1;33m\u001b[0m\u001b[1;33m\u001b[0m\u001b[0m\n\u001b[1;32m--> 940\u001b[1;33m             \u001b[1;32mraise\u001b[0m \u001b[0mHTTPError\u001b[0m\u001b[1;33m(\u001b[0m\u001b[0mhttp_error_msg\u001b[0m\u001b[1;33m,\u001b[0m \u001b[0mresponse\u001b[0m\u001b[1;33m=\u001b[0m\u001b[0mself\u001b[0m\u001b[1;33m)\u001b[0m\u001b[1;33m\u001b[0m\u001b[1;33m\u001b[0m\u001b[0m\n\u001b[0m\u001b[0;32m    941\u001b[0m \u001b[1;33m\u001b[0m\u001b[0m\n\u001b[0;32m    942\u001b[0m     \u001b[1;32mdef\u001b[0m \u001b[0mclose\u001b[0m\u001b[1;33m(\u001b[0m\u001b[0mself\u001b[0m\u001b[1;33m)\u001b[0m\u001b[1;33m:\u001b[0m\u001b[1;33m\u001b[0m\u001b[1;33m\u001b[0m\u001b[0m\n",
      "\u001b[1;31mHTTPError\u001b[0m: 404 Client Error: Not Found for url: https://m.facebook.com/t"
     ]
    }
   ],
   "source": [
    "posts__ = get_posts(post_urls=\"mzitout/posts/3971401979595731\",options={\"comments\": True})\n",
    "for post in posts__:\n",
    "    print(post)\n",
    "    print(\"-------------------------------\")"
   ]
  },
  {
   "cell_type": "code",
   "execution_count": 3,
   "metadata": {},
   "outputs": [],
   "source": [
    "df = DataFrame(get_posts('mzitout',options={\"comments\": True}))\n",
    "\n",
    "df.to_csv('file_fb_3.csv')"
   ]
  },
  {
   "cell_type": "code",
   "execution_count": null,
   "metadata": {},
   "outputs": [],
   "source": []
  }
 ],
 "metadata": {
  "kernelspec": {
   "display_name": "Python 3",
   "language": "python",
   "name": "python3"
  },
  "language_info": {
   "codemirror_mode": {
    "name": "ipython",
    "version": 3
   },
   "file_extension": ".py",
   "mimetype": "text/x-python",
   "name": "python",
   "nbconvert_exporter": "python",
   "pygments_lexer": "ipython3",
   "version": "3.7.6"
  }
 },
 "nbformat": 4,
 "nbformat_minor": 4
}

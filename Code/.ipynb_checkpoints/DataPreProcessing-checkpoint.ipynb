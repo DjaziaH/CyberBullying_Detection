{
 "cells": [
  {
   "cell_type": "code",
   "execution_count": 22,
   "metadata": {},
   "outputs": [],
   "source": [
    "#Pandas is a fast, powerful, flexible and easy to use open source data analysis and manipulation tool,\n",
    "#built on top of the Python programming language.\n",
    "import pandas as pd\n",
    "\n",
    "#NLTK is a leading platform for building Python programs to work with human language data.\n",
    "import nltk\n",
    "\n",
    "#Regular Expression\n",
    "import re\n",
    "\n",
    "#A specific Arabic language library for Python, provides basic functions to manipulate Arabic letters and text, \n",
    "#like detecting Arabic letters, Arabic letters groups and characteristics, remove diacritics etc.\n",
    "import pyarabic.araby as araby\n",
    "from pyarabic.araby import tokenize, is_arabicrange, strip_tashkeel\n",
    "\n",
    "#This module provides access to the Unicode Character Database (UCD) which defines character properties for all\n",
    "#Unicode characters.\n",
    "import unicodedata"
   ]
  },
  {
   "cell_type": "code",
   "execution_count": 23,
   "metadata": {},
   "outputs": [],
   "source": [
    "#Call nltk.RegexpTokenizer(pattern) with pattern as r\"\\w+\" to create a tokenzier that uses pattern to split a string. \n",
    "#Call RegexpTokenizer.tokenize(text) with RegexpTokenizer as the previous result and text as a string representing a sentence\n",
    "#to return text as a list of words with punctuation's removed.( Remove punctuation and emojis)\n",
    "tokenizer = nltk.RegexpTokenizer(r\"\\w+\")"
   ]
  },
  {
   "cell_type": "code",
   "execution_count": 40,
   "metadata": {},
   "outputs": [],
   "source": [
    "def remove_repeating_char(text):\n",
    "    new_text = []\n",
    "    for current_word in text.split(' '):\n",
    "        if current_word not in  ['الله','والله']:\n",
    "            new_text.append(re.sub(r'(.)\\1+', r'\\1', current_word))\n",
    "        else : \n",
    "            new_text.append(current_word)\n",
    "    return ' '.join(new_text)"
   ]
  },
  {
   "cell_type": "code",
   "execution_count": 25,
   "metadata": {},
   "outputs": [],
   "source": [
    "def remove_laten_char(text):\n",
    "    text = ''.join((c for c in unicodedata.normalize('NFD', text) if unicodedata.category(c) != 'Mn'))\n",
    "    text = re.sub(r'[a-zA-Z]+', '', text)\n",
    "    return text"
   ]
  },
  {
   "cell_type": "code",
   "execution_count": 26,
   "metadata": {},
   "outputs": [],
   "source": [
    "def remove_diacritics(text):\n",
    "    return araby.strip_tashkeel(text)\n",
    "    "
   ]
  },
  {
   "cell_type": "code",
   "execution_count": 27,
   "metadata": {},
   "outputs": [],
   "source": [
    "def normalize_hamza(text):\n",
    "    return araby.normalize_hamza(text, method=\"tasheel\")"
   ]
  },
  {
   "cell_type": "code",
   "execution_count": 28,
   "metadata": {},
   "outputs": [],
   "source": [
    "def remove_laten_char_and_diacritics(text):\n",
    "    return ' '.join(tokenize(text, conditions=is_arabicrange, morphs=strip_tashkeel))"
   ]
  },
  {
   "cell_type": "code",
   "execution_count": 29,
   "metadata": {},
   "outputs": [],
   "source": [
    "def data_pre_processing(data) :\n",
    "    tokenizer = nltk.RegexpTokenizer(r\"\\w+\")\n",
    "    data = remove_laten_char(data)\n",
    "    data = remove_diacritics(data)\n",
    "    data = normalize_hamza(data)\n",
    "    data = remove_repeating_char(data)\n",
    "    #Remove punctuation and tokenize the data : \n",
    "    data = tokenizer.tokenize(data)\n",
    " \n",
    "    return data\n",
    "\n"
   ]
  },
  {
   "cell_type": "code",
   "execution_count": 31,
   "metadata": {
    "scrolled": false
   },
   "outputs": [],
   "source": [
    "def cleaning_data(data):\n",
    "    \n",
    "    new_comments = []\n",
    "    new_data = pd.DataFrame(columns=['author', 'authorChannelUrl', 'text','likeCount', 'publishedAt', 'offensive/non offensive', 'Algerian Dialect'])\n",
    "    for index in range(len(data)):\n",
    "        comment = data.iloc[index]\n",
    "        comment[\"text\"] = ' '.join(data_pre_processing(comment[\"text\"]))\n",
    "        if not (len( comment[\"text\"])<2 and ( not  comment[\"text\"] or len(comment[\"text\"][0]) < 2)) :\n",
    "            if(new_data.empty):\n",
    "                new_data = new_data.append({'author':comment[\"author\"] , 'authorChannelUrl':comment[\"authorChannelUrl\"] , 'text':comment[\"text\"] ,'likeCount':comment[\"likeCount\"] , 'publishedAt':comment[\"publishedAt\"] , 'offensive/non offensive':comment[\"offensive/non offensive\"] , 'Algerian Dialect':comment[\"Algerian Dialect\"] }, ignore_index=True)\n",
    "                new_comments.append(comment[\"text\"])\n",
    "            else:\n",
    "                if(comment[\"text\"] not in new_comments):\n",
    "                    new_data = new_data.append({'author':comment[\"author\"] , 'authorChannelUrl':comment[\"authorChannelUrl\"] , 'text':comment[\"text\"] ,'likeCount':comment[\"likeCount\"] , 'publishedAt':comment[\"publishedAt\"] , 'offensive/non offensive':comment[\"offensive/non offensive\"] , 'Algerian Dialect':comment[\"Algerian Dialect\"] }, ignore_index=True)\n",
    "                    new_comments.append(comment[\"text\"])\n",
    "    return new_data "
   ]
  },
  {
   "cell_type": "code",
   "execution_count": 42,
   "metadata": {},
   "outputs": [],
   "source": [
    "data = pd.read_csv(\"../Data/YouTube Data For cyberbullying Detection in the Algerian Dialect - YouTubeDataFile.csv\")"
   ]
  },
  {
   "cell_type": "code",
   "execution_count": 41,
   "metadata": {},
   "outputs": [
    {
     "name": "stderr",
     "output_type": "stream",
     "text": [
      "C:\\ProgramData\\Anaconda3\\lib\\site-packages\\ipykernel_launcher.py:7: SettingWithCopyWarning: \n",
      "A value is trying to be set on a copy of a slice from a DataFrame\n",
      "\n",
      "See the caveats in the documentation: https://pandas.pydata.org/pandas-docs/stable/user_guide/indexing.html#returning-a-view-versus-a-copy\n",
      "  import sys\n"
     ]
    },
    {
     "name": "stdout",
     "output_type": "stream",
     "text": [
      "10552\n",
      "8931\n"
     ]
    }
   ],
   "source": [
    "new_data = cleaning_data(data)\n",
    "new_data.to_csv(\"../Data/PreProcessedYouTubeDataFile.csv\")\n",
    "print(len(data))\n",
    "print(len(new_data))"
   ]
  },
  {
   "cell_type": "code",
   "execution_count": 43,
   "metadata": {},
   "outputs": [],
   "source": [
    " # Create dictionary that contains : (key= word  :  weight=avgOfSeverities)\n",
    "\n",
    "def create_dictionary():\n",
    "    df = pd.read_csv('../Data/bad_words.csv')\n",
    "    dictionary = {}\n",
    "    for i in df.index:\n",
    "        data = (df.loc[i])\n",
    "        key = ' '.join(data_pre_processing(data[\"bad_word\"]))\n",
    "        if key in dictionary:\n",
    "            dictionary[key] = (dictionary[key] + data[\"severity\"]) / 2\n",
    "        else :\n",
    "            dictionary[key] = data[\"severity\"]\n",
    "    return dictionary \n",
    "        "
   ]
  },
  {
   "cell_type": "code",
   "execution_count": 46,
   "metadata": {},
   "outputs": [],
   "source": [
    "# Create dictionary that contains : (key= (word,classe)  :  weight=avgOfSeverities)\n",
    "\n",
    "def create_dictionaryِClasses():\n",
    "    df = pd.read_csv('../Data/bad_words.csv')\n",
    "    dictionaryِClasses = {}\n",
    "    classes = [\"سب\" , \"سخرية\" , \"تحرش\" , \"تهديد\"]\n",
    "\n",
    "    for i in df.index:\n",
    "        data = (df.loc[i])\n",
    "        for class_ in classes : \n",
    "            key = (' '.join(data_pre_processing(data[\"bad_word\"])), class_ )\n",
    "            if key in dictionaryِClasses:\n",
    "                if(data[\"classification\"] == class_):\n",
    "                    dictionaryِClasses[key] = (dictionaryِClasses[key] + data[\"severity\"]) / 2\n",
    "            else :\n",
    "                if(data[\"classification\"] == class_):\n",
    "                    dictionaryِClasses[key] = data[\"severity\"]\n",
    "    return dictionaryِClasses"
   ]
  },
  {
   "cell_type": "code",
   "execution_count": 48,
   "metadata": {},
   "outputs": [
    {
     "name": "stdout",
     "output_type": "stream",
     "text": [
      "215\n",
      "{'مهبول': 9, 'جايح': 8.4453125, 'زبل': 7.25, 'خرية': 5.5, 'الله يلعنك': 10.0, 'بلع فمك': 5.0, 'متخلف': 8, 'بغل': 8.4296875, 'مسطاشة': 7, 'حمارة': 6.25, 'عطايا': 10, 'حيوان': 8.0, 'وي السلعة': 7, 'نقتلك': 7.34375, 'تافه': 4.5, 'قود': 5.515625, 'رخيس': 7.890625, 'حمار': 7.8876953125, 'تفو': 6.0, 'عاقر': 10, 'بلعه': 5, 'مال ربك': 10, 'سمينة': 7, 'خرا': 5.0, 'نيك امك': 8.5, 'نيك مك': 9.75, 'قهوي': 9.0, 'يا الكعبة': 5, 'كعبة': 8.5, 'كافي': 7.875, 'هايشة': 5.5, 'ساقطة': 9, 'معفون': 5, 'يا الزح': 7, 'متعرف والوا': 5, 'معقد': 7, 'كلب': 9.03125, 'بغلة': 5.5, 'خماج': 6.25, 'خامج': 9.0, 'ينعل والديك': 9.0, 'موسخ': 6.25, 'رخيص': 7, 'قحبة': 9.2265625, 'حابس': 6.375, 'نحيلك سروال': 6, 'نيك اخنك': 7, 'زبي': 9.0, 'اخرجلي طابي': 10, 'شماتة': 7.5, 'ڨليط': 5.5, 'بلعيه': 8, 'نت متفهمش': 6, 'نحرقك': 9.0, 'مقطعة': 10, 'جايحة': 3, 'قودي': 8, 'ليك غير القمع': 9, 'خامجة': 6.5, 'انت دير هادي': 6, 'طحان': 7.5, 'فرخ': 6.625, 'مشحاح': 5, 'نقش': 9.3125, 'قحابجي': 9, 'فايحة': 4, 'عطاي': 9.59375, 'بومبا': 6, 'بلع': 10, 'يا ولد القحبة': 5, 'بهلول': 5.75, 'منغولي': 8, 'ديوث': 8.0, 'كلبة': 7.0, 'ايكستارن حقير': 4, 'قليط': 7.0, 'نقطعك': 9.5, 'نذبحك': 8.5, 'ينعل بوك': 10, 'حايرة': 3, 'دايرة كيزبي': 10, 'نجي نتفاهم معاك': 8, 'سوسيالة': 9, 'شاهي لاتاي تاعك': 9, 'راضي': 8, 'غادي نيك': 8, 'كبول': 8.0, 'ترمة': 9, 'يا سي زبي': 8, 'بوصبع': 10, 'مونڨول': 10, 'الحبة': 6, 'مك': 10.0, 'طويل بلا خصلة': 3, 'في سرية تامة': 10, 'مجلخ': 8, 'مرنكة': 5, 'قرد': 10, 'نعلدين بوك': 10, 'تموت على يدي': 8, 'نعدين باباك': 9, 'عريضة': 10, 'مبعر': 10, 'فرويتي': 5.5, 'زواف': 10, 'تفاش': 5, 'قحب': 10, 'نڨعد عليك': 8, 'ملقطة': 9, 'جبهتك سطاد': 5, 'متسواش': 10, 'مشي مربية': 6, 'بلارج': 4, 'سلوم ليشية': 3, 'صوصيالة': 8, 'نيفو با': 8, 'شكامة': 8, 'نفركعك': 9, 'بوهالي': 7, 'شينة': 5, 'ولد القحبة': 10, 'شكام': 9, 'حلاب': 9, 'درجتيني': 5, 'نع دين نهارك': 6, 'نعدين بوك': 8, 'نيك ربك': 10, 'نيك': 10, 'كرفة': 7.0, 'عميق': 5.5, 'عڨون': 7, 'خانز': 7.75, 'نقلعلك يماك': 8, 'نفضحك': 8, 'متشبه لوالو': 5, 'ڨملة': 4, 'تحشم': 6, 'عريانة': 7, 'لعور': 7, 'عورة': 10.0, 'غبي': 9, 'البايرة': 3, 'وجه الطاوة': 4, 'وجهك كي الخر': 10, 'تخورجي معايا': 8, 'مسمومة': 5, 'نيك سوة تاع مك': 10, 'عليتيني': 5, 'تدرج': 5, 'تمنيك': 3, 'فمك جلغة': 6, 'يالمليح': 7, 'العبلي بيه': 7, 'مريول': 4, 'معجون': 7, 'شكم': 9, 'بهيمة': 8, 'ما تسواش': 8, 'ينعل دينك او دين امك او ابوك': 10, 'كافيا': 3, 'ماشي شباب ولا حاجة فيك ماشي شابة': 6, 'بايرة': 10.0, 'العاقرة': 3, 'عاهرة': 8.0, 'عروبي قليط دوار مشي ولد البلاد': 10, 'ينعل طاسيلة تاعك': 9, 'تربى': 9, 'نكرهك': 7, 'درجة': 5, 'يعل': 5, 'حرايمي': 9, 'راس الدلاع': 7, 'اعطينا نيكو': 5, 'نكفلك': 6, 'كز': 7, 'ثكلتك امك': 1, 'ولد القاف': 10, 'ختك': 10, 'حثالة': 7, 'معوق': 9, 'وي السلعا': 7, 'نلحسهالك': 10, 'ذري': 10, '106': 7.5, 'نفركتلك الدار': 9, 'نحكمك نهردك': 9, 'قواد': 9, 'تعلي': 5, 'منحرف': 5, 'بز': 10, 'وليد الحرام': 10, 'رباني': 10, 'واش هاذ الماتريال': 8, 'نيكلك يماك': 7, 'ارواح نتقابضو': 2, 'ن م': 8, 'صامط': 8, 'بينازة': 6, 'عطيني نيميروك': 8, 'مقطعة طلابة': 9, 'طلابة': 9, 'متشرد': 8, 'صوصيالا': 9, 'زين مخطوب ولا يستنا فالمكتوب': 8, 'قاع كي داير نت': 9, 'رهج': 6, 'دنفة': 3, 'نكتلك': 9, 'حلوف': 9, 'بابا عجينة': 7, 'مليحة': 5, 'حتشون': 10, 'قديم': 4, 'صاي بزاف': 1, 'عور': 6}\n",
      "237\n",
      "{('مهبول', 'سخرية'): 9, ('جايح', 'سخرية'): 8.390625, ('زبل', 'سخرية'): 5, ('خرية', 'سخرية'): 5, ('الله يلعنك', 'سب'): 10.0, ('بلع فمك', 'سخرية'): 5, ('متخلف', 'سخرية'): 8, ('بغل', 'سب'): 8.8125, ('مسطاشة', 'تحرش'): 7, ('حمارة', 'سب'): 4.5, ('عطايا', 'سب'): 10, ('حيوان', 'سب'): 8.0, ('وي السلعة', 'تحرش'): 7, ('نقتلك', 'تهديد'): 7.34375, ('تافه', 'سخرية'): 4.5, ('قود', 'سب'): 6.0, ('رخيس', 'سب'): 7.890625, ('حمار', 'سخرية'): 6.75, ('تفو', 'سب'): 6.0, ('عاقر', 'سخرية'): 10, ('بلعه', 'تهديد'): 5, ('مال ربك', 'سب'): 10, ('سمينة', 'سخرية'): 7, ('خرا', 'سب'): 5, ('نيك امك', 'سب'): 8.5, ('نيك مك', 'سب'): 9.75, ('قهوي', 'سخرية'): 9.0, ('يا الكعبة', 'سب'): 5, ('كعبة', 'سب'): 7, ('كافي', 'سخرية'): 7.875, ('هايشة', 'سب'): 6, ('ساقطة', 'سخرية'): 9, ('معفون', 'سب'): 5, ('يا الزح', 'سب'): 7, ('متعرف والوا', 'سخرية'): 5, ('معقد', 'سخرية'): 7, ('جايح', 'سب'): 7, ('كلب', 'سب'): 9.03125, ('بغلة', 'سب'): 5.5, ('خماج', 'سب'): 6.25, ('خامج', 'سب'): 9.0, ('ينعل والديك', 'سب'): 9.0, ('موسخ', 'سخرية'): 7.0, ('رخيص', 'سب'): 7, ('قحبة', 'سب'): 9.203125, ('حابس', 'سخرية'): 6.375, ('حمار', 'سب'): 9.5703125, ('نحيلك سروال', 'تحرش'): 6, ('نيك اخنك', 'سب'): 7, ('زبي', 'سب'): 9.0, ('كعبة', 'تحرش'): 10, ('اخرجلي طابي', 'تهديد'): 10, ('شماتة', 'سب'): 7.5, ('ڨليط', 'سخرية'): 5.5, ('بلعيه', 'تهديد'): 8, ('نت متفهمش', 'سخرية'): 6, ('نحرقك', 'تهديد'): 9.0, ('مقطعة', 'سخرية'): 10, ('زبل', 'سب'): 8.5, ('جايحة', 'سخرية'): 3, ('قودي', 'سب'): 8, ('ليك غير القمع', 'سب'): 9, ('خامجة', 'سب'): 9, ('انت دير هادي', 'سخرية'): 6, ('طحان', 'سب'): 7.5, ('فرخ', 'سب'): 6.625, ('مشحاح', 'سب'): 5, ('نقش', 'سب'): 9.625, ('قحابجي', 'سب'): 9, ('فايحة', 'سب'): 4, ('عطاي', 'سب'): 9.59375, ('قود', 'سخرية'): 5.5, ('بومبا', 'تحرش'): 6, ('بلع', 'سب'): 10, ('يا ولد القحبة', 'تحرش'): 5, ('بهلول', 'سخرية'): 5.75, ('منغولي', 'سخرية'): 8, ('ديوث', 'سب'): 8, ('كلبة', 'سخرية'): 6, ('ايكستارن حقير', 'سخرية'): 4, ('قليط', 'سخرية'): 7.0, ('نقطعك', 'تهديد'): 9.5, ('نذبحك', 'تهديد'): 8.5, ('حمارة', 'سخرية'): 9, ('ينعل بوك', 'سب'): 10, ('حايرة', 'سخرية'): 3, ('دايرة كيزبي', 'سب'): 10, ('نجي نتفاهم معاك', 'تهديد'): 8, ('سوسيالة', 'سب'): 9, ('شاهي لاتاي تاعك', 'تحرش'): 9, ('بغل', 'سخرية'): 9.0, ('راضي', 'سخرية'): 8, ('غادي نيك', 'تهديد'): 8, ('كبول', 'سب'): 8.0, ('ترمة', 'تحرش'): 9, ('يا سي زبي', 'تحرش'): 8, ('بوصبع', 'سخرية'): 10, ('مونڨول', 'سخرية'): 10, ('موسخ', 'سب'): 5, ('الحبة', 'تحرش'): 6, ('مك', 'سخرية'): 10, ('طويل بلا خصلة', 'سخرية'): 3, ('في سرية تامة', 'تحرش'): 10, ('مجلخ', 'سب'): 8, ('مرنكة', 'سب'): 5, ('ديوث', 'سخرية'): 8, ('قرد', 'سخرية'): 10, ('نعلدين بوك', 'سب'): 10, ('تموت على يدي', 'تهديد'): 8, ('نعدين باباك', 'سب'): 9, ('عريضة', 'تحرش'): 10, ('مبعر', 'سب'): 10, ('فرويتي', 'سخرية'): 5.5, ('زواف', 'سخرية'): 10, ('خرية', 'سب'): 6, ('تفاش', 'سخرية'): 5, ('قحب', 'سب'): 10, ('نڨعد عليك', 'تحرش'): 8, ('ملقطة', 'سخرية'): 9, ('جبهتك سطاد', 'سخرية'): 5, ('متسواش', 'سخرية'): 10, ('مشي مربية', 'سخرية'): 6, ('بلارج', 'سخرية'): 4, ('قود', 'تهديد'): 4, ('سلوم ليشية', 'سخرية'): 3, ('صوصيالة', 'سخرية'): 8, ('نيفو با', 'سخرية'): 8, ('شكامة', 'سب'): 8, ('نفركعك', 'تهديد'): 9, ('بوهالي', 'سب'): 7, ('شينة', 'سخرية'): 5, ('ولد القحبة', 'سب'): 10, ('شكام', 'سب'): 9, ('حلاب', 'سخرية'): 9, ('درجتيني', 'سب'): 5, ('نع دين نهارك', 'سب'): 6, ('نعدين بوك', 'سب'): 8, ('نيك ربك', 'سب'): 10, ('نيك', 'تهديد'): 10, ('كرفة', 'سخرية'): 5, ('عميق', 'سخرية'): 5.5, ('عڨون', 'سخرية'): 7, ('خانز', 'سخرية'): 8.5, ('نقلعلك يماك', 'تهديد'): 8, ('نفضحك', 'تهديد'): 8, ('متشبه لوالو', 'سب'): 5, ('ڨملة', 'سب'): 4, ('تحشم', 'سخرية'): 6, ('عريانة', 'تحرش'): 7, ('لعور', 'سخرية'): 7, ('عورة', 'سخرية'): 10.0, ('غبي', 'سخرية'): 9, ('البايرة', 'سخرية'): 3, ('وجه الطاوة', 'سخرية'): 4, ('وجهك كي الخر', 'سب'): 10, ('تخورجي معايا', 'تحرش'): 8, ('مسمومة', 'سب'): 5, ('نيك سوة تاع مك', 'تهديد'): 10, ('عليتيني', 'سب'): 5, ('تدرج', 'سب'): 5, ('تمنيك', 'سخرية'): 3, ('فمك جلغة', 'سخرية'): 6, ('يالمليح', 'تحرش'): 7, ('العبلي بيه', 'سب'): 7, ('مريول', 'سخرية'): 4, ('معجون', 'سخرية'): 7, ('هايشة', 'سخرية'): 5, ('شكم', 'سب'): 9, ('بهيمة', 'سب'): 8, ('ما تسواش', 'سب'): 8, ('ينعل دينك او دين امك او ابوك', 'سب'): 10, ('كافيا', 'سخرية'): 3, ('ماشي شباب ولا حاجة فيك ماشي شابة', 'سخرية'): 6, ('بايرة', 'سخرية'): 10.0, ('خانز', 'سب'): 7, ('العاقرة', 'سخرية'): 3, ('عاهرة', 'سب'): 10, ('عروبي قليط دوار مشي ولد البلاد', 'سخرية'): 10, ('ينعل طاسيلة تاعك', 'سب'): 9, ('تربى', 'سب'): 9, ('نكرهك', 'سب'): 7, ('درجة', 'سب'): 5, ('قحبة', 'تحرش'): 10, ('خامجة', 'سخرية'): 4, ('يعل', 'سب'): 5, ('حرايمي', 'سب'): 9, ('راس الدلاع', 'سخرية'): 7, ('اعطينا نيكو', 'تحرش'): 5, ('نكفلك', 'تهديد'): 6, ('كز', 'سب'): 7, ('ثكلتك امك', 'سب'): 1, ('ولد القاف', 'سب'): 10, ('ختك', 'سب'): 10, ('حثالة', 'سخرية'): 7, ('معوق', 'سخرية'): 9, ('بلع فمك', 'تهديد'): 5, ('وي السلعا', 'تحرش'): 7, ('نلحسهالك', 'تحرش'): 10, ('ذري', 'سخرية'): 10, ('106', 'سب'): 7.5, ('نفركتلك الدار', 'تهديد'): 9, ('نحكمك نهردك', 'تهديد'): 9, ('قواد', 'سخرية'): 9, ('تعلي', 'سب'): 5, ('منحرف', 'سخرية'): 5, ('بز', 'سخرية'): 10, ('وليد الحرام', 'سب'): 10, ('رباني', 'سب'): 10, ('واش هاذ الماتريال', 'تحرش'): 8, ('نيكلك يماك', 'تهديد'): 7, ('نقش', 'سخرية'): 8, ('ارواح نتقابضو', 'تهديد'): 2, ('ن م', 'سب'): 8, ('صامط', 'سخرية'): 8, ('بينازة', 'سخرية'): 6, ('مك', 'سب'): 10, ('عطيني نيميروك', 'تحرش'): 8, ('مقطعة طلابة', 'سخرية'): 9, ('طلابة', 'سخرية'): 9, ('متشرد', 'سخرية'): 8, ('كلبة', 'سب'): 8, ('صوصيالا', 'سخرية'): 9, ('زين مخطوب ولا يستنا فالمكتوب', 'تحرش'): 8, ('قاع كي داير نت', 'سخرية'): 9, ('رهج', 'سب'): 6, ('دنفة', 'سب'): 3, ('نكتلك', 'تهديد'): 9, ('حلوف', 'سب'): 9, ('خرا', 'سخرية'): 5, ('بابا عجينة', 'سخرية'): 7, ('عاهرة', 'تحرش'): 6, ('مليحة', 'تحرش'): 5, ('حتشون', 'سب'): 10, ('قديم', 'سخرية'): 4, ('صاي بزاف', 'تهديد'): 1, ('كرفة', 'سب'): 9, ('عور', 'سخرية'): 6}\n"
     ]
    }
   ],
   "source": [
    "dic = create_dictionary()\n",
    "dic_clas = create_dictionaryِClasses()\n",
    "\n",
    "print(len(dic))\n",
    "print(dic)\n",
    "\n",
    "print(len(dic_clas))\n",
    "print(dic_clas)"
   ]
  },
  {
   "cell_type": "code",
   "execution_count": 50,
   "metadata": {},
   "outputs": [
    {
     "ename": "AttributeError",
     "evalue": "'dict' object has no attribute 'to_csv'",
     "output_type": "error",
     "traceback": [
      "\u001b[1;31m---------------------------------------------------------------------------\u001b[0m",
      "\u001b[1;31mAttributeError\u001b[0m                            Traceback (most recent call last)",
      "\u001b[1;32m<ipython-input-50-0720050032b2>\u001b[0m in \u001b[0;36m<module>\u001b[1;34m\u001b[0m\n\u001b[1;32m----> 1\u001b[1;33m \u001b[0mdic\u001b[0m\u001b[1;33m.\u001b[0m\u001b[0mto_csv\u001b[0m\u001b[1;33m(\u001b[0m\u001b[1;34m'../Data/dic.csv'\u001b[0m\u001b[1;33m)\u001b[0m\u001b[1;33m\u001b[0m\u001b[1;33m\u001b[0m\u001b[0m\n\u001b[0m",
      "\u001b[1;31mAttributeError\u001b[0m: 'dict' object has no attribute 'to_csv'"
     ]
    }
   ],
   "source": [
    "pd.DataFrame(list(dic),columns = ['bad_word',''] ).to_csv('../Data/dic.csv')"
   ]
  },
  {
   "cell_type": "code",
   "execution_count": null,
   "metadata": {},
   "outputs": [],
   "source": []
  }
 ],
 "metadata": {
  "kernelspec": {
   "display_name": "Python 3",
   "language": "python",
   "name": "python3"
  },
  "language_info": {
   "codemirror_mode": {
    "name": "ipython",
    "version": 3
   },
   "file_extension": ".py",
   "mimetype": "text/x-python",
   "name": "python",
   "nbconvert_exporter": "python",
   "pygments_lexer": "ipython3",
   "version": "3.7.6"
  }
 },
 "nbformat": 4,
 "nbformat_minor": 4
}

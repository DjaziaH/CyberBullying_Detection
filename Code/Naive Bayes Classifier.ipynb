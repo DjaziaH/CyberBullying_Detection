{
 "cells": [
  {
   "cell_type": "code",
   "execution_count": 1,
   "metadata": {},
   "outputs": [],
   "source": [
    "import nltk \n",
    "import pandas as pd \n",
    "from nltk import ngrams\n",
    "import numpy as np"
   ]
  },
  {
   "cell_type": "code",
   "execution_count": 2,
   "metadata": {},
   "outputs": [],
   "source": [
    "X_train_1 = pd.read_csv('../Data/data_1/Training_data/X.csv').iloc[:,1:]\n",
    "X_test_1  = pd.read_csv('../Data/data_1/Testing_data/X.csv').iloc[:,1:]\n",
    "y_train_1 = pd.read_csv('../Data/data_1/Training_data/Y.csv').iloc[:,1:]\n",
    "y_test_1  = pd.read_csv('../Data/data_1/Testing_data/Y.csv').iloc[:,1:]"
   ]
  },
  {
   "cell_type": "code",
   "execution_count": 3,
   "metadata": {},
   "outputs": [],
   "source": [
    "X_train_2 = pd.read_csv('../Data/data_2/Training_data/X.csv').iloc[:,1:]\n",
    "X_test_2  = pd.read_csv('../Data/data_2/Testing_data/X.csv').iloc[:,1:]\n",
    "y_train_2 = pd.read_csv('../Data/data_2/Training_data/Y.csv').iloc[:,1:]\n",
    "y_test_2  = pd.read_csv('../Data/data_2/Testing_data/Y.csv').iloc[:,1:]"
   ]
  },
  {
   "cell_type": "code",
   "execution_count": 4,
   "metadata": {},
   "outputs": [],
   "source": [
    "def count_comments(result, comments, ys):\n",
    "    '''\n",
    "    Input:\n",
    "        result: a dictionary that will be used to map each pair to its frequency\n",
    "        comments: a list of comments\n",
    "        ys: a list corresponding to the class of each comment ( 'p' if offensive 'n' otherwise )\n",
    "    Output:\n",
    "        result: a dictionary mapping each pair to its frequency\n",
    "    '''\n",
    "    \n",
    "    for y, comment in zip(ys, comments):\n",
    "        for n in [1,2,3,4]:\n",
    "            commentNgrams = ngrams(comment.split(), n)\n",
    "            for grams in commentNgrams:\n",
    "                # define the key, which is the word and label tuple\n",
    "                pair = (' '.join(grams) , y)\n",
    "\n",
    "                # if the key exists in the dictionary, increment the count\n",
    "                if pair in result:\n",
    "                    result[pair] += 1\n",
    "\n",
    "                # else, if the key is new, add it to the dictionary and set the count to 1\n",
    "                else:\n",
    "                    result[pair] = 1\n",
    "\n",
    "    return result"
   ]
  },
  {
   "cell_type": "code",
   "execution_count": 5,
   "metadata": {},
   "outputs": [],
   "source": [
    "freq_1 = count_comments({},X_train_1[\"text\"],y_train_1['offensive/non offensive'])\n",
    "\n",
    "freq_2 = count_comments({},X_train_2[\"text\"],y_train_2['offensive/non offensive'])"
   ]
  },
  {
   "cell_type": "code",
   "execution_count": 6,
   "metadata": {
    "scrolled": true
   },
   "outputs": [
    {
     "name": "stdout",
     "output_type": "stream",
     "text": [
      "86662\n"
     ]
    }
   ],
   "source": [
    "print(len(freq_1))"
   ]
  },
  {
   "cell_type": "code",
   "execution_count": 7,
   "metadata": {},
   "outputs": [
    {
     "name": "stdout",
     "output_type": "stream",
     "text": [
      "225672\n"
     ]
    }
   ],
   "source": [
    "print(len(freq_2))"
   ]
  },
  {
   "cell_type": "code",
   "execution_count": 8,
   "metadata": {},
   "outputs": [],
   "source": [
    "def train_naive_bayes(freqs, train_x, train_y):\n",
    "    '''\n",
    "    Input:\n",
    "        freqs: dictionary from (ngram, label) to how often the ngram appears\n",
    "        train_x: a list of comments\n",
    "        train_y: a list of labels correponding to the comments ('p','n')\n",
    "    Output:\n",
    "        logprior: the log prior.\n",
    "        loglikelihood: the log likelihood of Naive bayes equation.\n",
    "    '''\n",
    "    loglikelihood = {}\n",
    "    logprior = 0\n",
    "\n",
    " \n",
    "    # calculate V, the number of unique ngrams in the vocabulary\n",
    "    vocab = set([pair[0] for pair in freqs.keys()])\n",
    "    V = len(vocab)\n",
    "\n",
    "    # calculate N_offensive and N_non_offensive\n",
    "    N_offensive = N_non_offensive = 0\n",
    "    for pair in freqs.keys():\n",
    "        # if the comment is offensive (p)\n",
    "        if pair[1] == \"p\":\n",
    "\n",
    "            # Increment the number of offensive ngrams by the count for this (ngram, label) pair\n",
    "            N_offensive += freqs.get(pair,0)\n",
    "\n",
    "        # else, the comment is non offensive\n",
    "        else:\n",
    "\n",
    "            # increment the number of non offensive ngrams by the count for this (ngram,label) pair\n",
    "            N_non_offensive += freqs.get(pair,0)\n",
    "\n",
    "    # Calculate C, the number of comments\n",
    "    C = len(train_y)\n",
    "\n",
    "    # Calculate C_offensive, the number of offensive comments\n",
    "    C_offensive = 0\n",
    "    for index in range(len(train_y)) :\n",
    "        if train_y.iloc[index]['offensive/non offensive'] == \"p\":\n",
    "            C_offensive += 1\n",
    "\n",
    "    # Calculate C_non_offensive, the number of non offensive comments\n",
    "    C_non_offensive = C - C_offensive\n",
    "\n",
    "    # Calculate logprior\n",
    "    logprior = np.log(C_offensive/C_non_offensive)\n",
    "\n",
    "    # For each word in the vocabulary...\n",
    "    for word in vocab:\n",
    "        # get the offensive and non offensive frequency of the word\n",
    "        freq_offensive = freqs.get((word,\"p\"),0)\n",
    "        freq_non_offensive = freqs.get((word,\"n\"),0)\n",
    "\n",
    "        # calculate the probability that each word is offensive, and non offensive\n",
    "        p_w_offensive = (freq_offensive + 1 ) / (C_offensive + V)\n",
    "        p_w_non_offensive = (freq_non_offensive + 1 ) / (C_non_offensive + V)\n",
    "\n",
    "        # calculate the log likelihood of the word\n",
    "        loglikelihood[word] = np.log(p_w_offensive) - np.log(p_w_non_offensive)\n",
    "\n",
    "\n",
    "    return logprior, loglikelihood\n"
   ]
  },
  {
   "cell_type": "code",
   "execution_count": 9,
   "metadata": {},
   "outputs": [
    {
     "name": "stdout",
     "output_type": "stream",
     "text": [
      "logprior_1 : 0.23677167881556502\n",
      "loglikelihood_1 : 84159\n"
     ]
    }
   ],
   "source": [
    "logprior_1, loglikelihood_1 = train_naive_bayes(freq_1, X_train_1, y_train_1)\n",
    "print(f'logprior_1 : {logprior_1}')\n",
    "print(f'loglikelihood_1 : {len(loglikelihood_1)}')"
   ]
  },
  {
   "cell_type": "code",
   "execution_count": 10,
   "metadata": {},
   "outputs": [
    {
     "name": "stdout",
     "output_type": "stream",
     "text": [
      "logprior_2 : 0.29254771147111763\n",
      "loglikelihood_2 : 218517\n"
     ]
    }
   ],
   "source": [
    "logprior_2, loglikelihood_2 = train_naive_bayes(freq_2, X_train_2, y_train_2)\n",
    "print(f'logprior_2 : {logprior_2}')\n",
    "print(f'loglikelihood_2 : {len(loglikelihood_2)}')"
   ]
  },
  {
   "cell_type": "code",
   "execution_count": 11,
   "metadata": {},
   "outputs": [],
   "source": [
    "def naive_bayes_predict(comment, logprior, loglikelihood):\n",
    "    '''\n",
    "    Input:\n",
    "        comment: a string\n",
    "        logprior: a number\n",
    "        loglikelihood: a dictionary of words mapping to numbers\n",
    "    Output:\n",
    "        p: the sum of all the logliklihoods of each word in the comment (if found in the dictionary) + logprior (a number)\n",
    "\n",
    "    '''\n",
    "    # initialize probability to zero\n",
    "    p = 0\n",
    "\n",
    "    # add the logprior\n",
    "    p += logprior \n",
    "\n",
    "    for n in [1,2,3,4]:\n",
    "        commentNgrams = ngrams(comment.split(), n)\n",
    "        for grams in commentNgrams:\n",
    "            word = ' '.join(grams)\n",
    "            # check if the word exists in the loglikelihood dictionary\n",
    "            if word in loglikelihood:\n",
    "                # add the log likelihood of that word to the probability\n",
    "                p += loglikelihood.get(word)\n",
    "\n",
    "    return p\n"
   ]
  },
  {
   "cell_type": "code",
   "execution_count": 12,
   "metadata": {},
   "outputs": [
    {
     "name": "stdout",
     "output_type": "stream",
     "text": [
      "The expected output is 1.6200513572142514\n"
     ]
    }
   ],
   "source": [
    "my_comment = \"كلب\"\n",
    "p = naive_bayes_predict(my_comment, logprior_1, loglikelihood_1)\n",
    "print('The expected output is', p)"
   ]
  },
  {
   "cell_type": "code",
   "execution_count": 13,
   "metadata": {},
   "outputs": [
    {
     "name": "stdout",
     "output_type": "stream",
     "text": [
      "The expected output is -1.0971343292547198\n"
     ]
    }
   ],
   "source": [
    "my_comment = \"حنونتي\"\n",
    "p = naive_bayes_predict(my_comment, logprior_2, loglikelihood_2)\n",
    "print('The expected output is', p)"
   ]
  },
  {
   "cell_type": "code",
   "execution_count": 14,
   "metadata": {},
   "outputs": [],
   "source": [
    "def test_naive_bayes(test_x, test_y, logprior, loglikelihood):\n",
    "    \"\"\"\n",
    "    Input:\n",
    "        test_x: A list of comments\n",
    "        test_y: the corresponding labels for the list of comments\n",
    "        logprior: the logprior\n",
    "        loglikelihood: a dictionary with the loglikelihoods for each word\n",
    "    Output:\n",
    "        accuracy: (# of comments classified correctly)/(total # of comments)\n",
    "    \"\"\"\n",
    "    accuracy = 0  # return this properly\n",
    "\n",
    "    y_hats = []\n",
    "    for index in range(len(test_x)):\n",
    "        comment = test_x.iloc[index][\"text\"]\n",
    "        \n",
    "        for index in range(len(test_y)):\n",
    "            if test_y.iloc[index]['offensive/non offensive'] == \"n\":\n",
    "                test_y.iloc[index]['offensive/non offensive'] = 0\n",
    "            else :\n",
    "                test_y.iloc[index]['offensive/non offensive'] = 1\n",
    "        \n",
    "        # if the prediction is > 0\n",
    "        if naive_bayes_predict(comment, logprior, loglikelihood) > 0:\n",
    "            # the predicted class is 1 \"Offensive\"\n",
    "            y_hat_i = 1\n",
    "        else:\n",
    "            # otherwise the predicted class is 0 \"Non Offensive\"\n",
    "            y_hat_i = 0\n",
    "\n",
    "        # append the predicted class to the list y_hats\n",
    "        y_hats.append(y_hat_i)\n",
    "\n",
    "    # error is the average of the absolute values of the differences between y_hats and test_y\n",
    "    error = np.mean(np.absolute(y_hats - test_y['offensive/non offensive']))\n",
    "\n",
    "    # Accuracy is 1 minus the error\n",
    "    accuracy = 1- error\n",
    "\n",
    "    return accuracy\n"
   ]
  },
  {
   "cell_type": "code",
   "execution_count": 15,
   "metadata": {},
   "outputs": [
    {
     "name": "stdout",
     "output_type": "stream",
     "text": [
      "Data 1 : \n",
      "Naive Bayes accuracy = 0.6503\n"
     ]
    }
   ],
   "source": [
    "print(\"Data 1 : \")\n",
    "print(\"Naive Bayes accuracy = %0.4f\" %\n",
    "      (test_naive_bayes(X_test_1, y_test_1, logprior_1, loglikelihood_1)))"
   ]
  },
  {
   "cell_type": "code",
   "execution_count": 16,
   "metadata": {},
   "outputs": [
    {
     "name": "stdout",
     "output_type": "stream",
     "text": [
      "Data 2 : \n",
      "Naive Bayes accuracy = 0.8112\n"
     ]
    }
   ],
   "source": [
    "print(\"Data 2 : \")\n",
    "print(\"Naive Bayes accuracy = %0.4f\" %\n",
    "      (test_naive_bayes(X_test_2, y_test_2, logprior_2, loglikelihood_2)))"
   ]
  },
  {
   "cell_type": "code",
   "execution_count": null,
   "metadata": {},
   "outputs": [],
   "source": []
  }
 ],
 "metadata": {
  "kernelspec": {
   "display_name": "Python 3",
   "language": "python",
   "name": "python3"
  },
  "language_info": {
   "codemirror_mode": {
    "name": "ipython",
    "version": 3
   },
   "file_extension": ".py",
   "mimetype": "text/x-python",
   "name": "python",
   "nbconvert_exporter": "python",
   "pygments_lexer": "ipython3",
   "version": "3.7.6"
  }
 },
 "nbformat": 4,
 "nbformat_minor": 4
}

{
 "cells": [
  {
   "cell_type": "code",
   "execution_count": 1,
   "id": "5d465023",
   "metadata": {},
   "outputs": [],
   "source": [
    "import pandas as pd"
   ]
  },
  {
   "cell_type": "code",
   "execution_count": 2,
   "id": "903690b4",
   "metadata": {},
   "outputs": [],
   "source": [
    "data = pd.read_csv('../Data/PreProcessedYoutubeDataFileAndAnnotated.csv')"
   ]
  },
  {
   "cell_type": "code",
   "execution_count": 4,
   "id": "d11280c6",
   "metadata": {
    "scrolled": true
   },
   "outputs": [],
   "source": [
    "data = data.iloc[:,1:]"
   ]
  },
  {
   "cell_type": "code",
   "execution_count": 5,
   "id": "d14aa022",
   "metadata": {},
   "outputs": [],
   "source": [
    "#Get the Algerian Dialect Comments \n",
    "def get_AD_comments(data):\n",
    "    for index in range(len(data)) : \n",
    "        if data.iloc[index].get(\"Algerian Dialect\") == \"n\":\n",
    "            data.drop(data.index[index], inplace = True)\n",
    "    return data"
   ]
  },
  {
   "cell_type": "code",
   "execution_count": 8,
   "id": "3989d696",
   "metadata": {},
   "outputs": [],
   "source": [
    "data = get_AD_comments(data)"
   ]
  },
  {
   "cell_type": "code",
   "execution_count": 9,
   "id": "740e0c4c",
   "metadata": {
    "scrolled": true
   },
   "outputs": [],
   "source": [
    "#Return Offensive comments from the data \n",
    "def get_offensive_comments(data):\n",
    "    \n",
    "    offensiveComment = pd.DataFrame(columns=['text'])\n",
    "    for index in range(len(data)):\n",
    "        if data.iloc[index][\"offensive/non offensive\"] == \"p\":\n",
    "            offensiveComment = offensiveComment.append({\"text\" : data.iloc[index][\"text\"]},ignore_index=True)\n",
    "    return offensiveComment\n"
   ]
  },
  {
   "cell_type": "code",
   "execution_count": 10,
   "id": "368ce2b0",
   "metadata": {},
   "outputs": [],
   "source": [
    "offensiveComment = get_offensive_comments(data)"
   ]
  },
  {
   "cell_type": "code",
   "execution_count": 11,
   "id": "9346243e",
   "metadata": {},
   "outputs": [],
   "source": [
    "list_1 = []\n",
    "list_2 = []\n",
    "list_3 = []\n",
    "list_4 = []\n",
    "for index in range(len(offensiveComment)) : \n",
    "    comment = offensiveComment.iloc[index][\"text\"]\n",
    "    commentLength = len(comment.split(' '))\n",
    "\n",
    "    if(commentLength == 1) :\n",
    "        list_1.append(comment),\n",
    "    elif(commentLength == 2) : \n",
    "        list_2.append(comment),\n",
    "    elif(commentLength == 3) : \n",
    "        list_3.append(comment),\n",
    "    elif(commentLength == 4) : \n",
    "        list_4.append(comment),"
   ]
  },
  {
   "cell_type": "code",
   "execution_count": 14,
   "id": "e2e88b15",
   "metadata": {
    "scrolled": true
   },
   "outputs": [
    {
     "name": "stdout",
     "output_type": "stream",
     "text": [
      "['بف', 'صليب', 'تفو', 'اتربي', 'كلاب', 'اه', 'رخيسة', 'رخيس', 'ممسوخة', 'طوبا', 'فاسدة', 'متحشميش', 'خامجة', 'جبهتك', 'بلعي', 'متخلفة', 'خر', 'خرية', 'مرخس', 'قاعك', 'فاسقة', 'يا', 'حاشاك', 'حالوفة', 'كسبي', 'ياشيات', 'حيوان', 'خانزة', 'خري', 'حمقاء', 'بيتش', 'تفوه', 'اعق', 'ترخفي', 'تكذبي', 'فايحة', 'روحي', 'سوسيالة', 'جايحة', 'كذابة', 'خشتفو', 'لابوبال', 'خرا', 'كذبة', 'الخنز', 'فاقو', 'تنفخيهم', 'السناطح', 'تعيي', 'ميكروب', 'شمطاء', 'خماج', 'ماتحشميش', 'تفوو', 'ختفو', 'قودي', 'الشعر', 'تفوا', 'ترخف', 'باعو', 'الشيتة', 'شيتة', 'مبعرة', 'تبهديلي', 'معتوهة', 'رخيسا', 'نكم', 'شادي', 'فايحا', 'فاجرة', 'يشويدي', 'سوكتي اسوكلي', 'وجه مقلى', 'صليب صليب', 'ترقصي مليح', 'قبيحة شيطانة', '3 100', 'عقرب ه', 'دايرة مسيحية', 'الله يلعن', 'واش دخلك', 'كيلو ماكياج', 'وجه الميزيرية', 'وجه الشر', 'والله ماتحشمي', 'سيري يالحولة', 'مونيا حمر', 'ماشي مربية', 'ياخي جايحة', 'ضعف شخصية', 'ياخي مزعوقة', 'مكبر جبهتك', 'دراهم يماك', 'تفوه عليك', 'تباني متحولة', 'انت خرية', 'خرية اتت', 'جرانا زرزومية', 'خماج وا', 'وجه البخس', 'رنكي رنكي', 'الله يدلك', 'خلاصت حكايتك', 'شحال تكذبي', 'كذا ابة', 'امنتوها كذابة', 'بلاد القاف', 'تبقاي رخيسة', 'نعناعة التافهة', 'مستوى 00', 'تستهلي كتر', 'تعيي مكروهة', 'الى المزبلة', 'ريوڨ ريوڨ', 'الخوف يهدر', 'ختفو عليك', 'كذابة ثاني', 'كلي خرى', 'روحي ت', 'وجه نمي', 'روح تعطيه', 'شحال متعجبينيش', 'شحال متعجبينيس', 'روحي تع', 'تفو عليكم', 'خامجة 100', 'فيحا خمجا', 'كبير وتكذب', 'او قيو', 'هاني نريڨ', 'كبيرة وجايحة', 'تفو عليك', 'جبهتك صافا', 'الله يذلك', 'ماشي مربيا', 'روحي ادوري', 'نتي خرا', 'مزلك تكذبي', 'كذابة وبلعاطة', 'نعناعة مكبوتا', 'وجها مطلص', 'تفوه رخيسة', 'تكذبي تكذبي', 'مونيا تکذبي', 'ياو فاقو', 'ياو قيو', 'باه يترباو', 'عيب عليك', 'وجه صحيح', 'وقحة ساقطة', 'دايرة كي', 'نحتشون يماك', 'سوتك الخامجة', 'يعطيهالك نشاله', 'خامجة وفرات', 'باختصار رخيصة', 'نقصة تريية', 'شبهة السطل', 'جهناما تكلك', 'نعراص تاعك', 'يا سوسيال', 'اانتي 0', 'ياوجه كاويتشو', 'علاه تكذب', 'سوق لخماج', 'مونيا ترباي', 'واش تحلبتي', 'ياخي طالوشة', 'النتي شيطانا', 'انعدين باباك', 'لجبري لتحلاب', 'تستاهلي كلبتي', 'وجهك كي', 'افضحي النقوشه', 'متكذبيش يالكذابة', 'المغتصب خصو الاعدام', 'انتي ماشي مسلمة', 'روحي انصحي روحك', 'كافيا تاع الصح', 'غول مشي مربيا', 'وجهك صحيح تهدري', 'وعذاب القبر نسيتيه', 'نتيا مرة نتي', 'ونتي فرحانة بروحك', 'شكون لي رخيسا', 'مريضة نفسيا مسكينة', 'لقصاص نطبقو عليك', 'ترباي نتيا برك', 'ربي يهديك ياموسطاشة', 'ادي جبهتك وحكايتك', 'نتي واش دخلك', 'لازم توزني كلامك', 'بالعي بالعي فمك', 'جبهة كي سرالها', 'نحملهاش هاذ المخلوقة', 'بلعي فمك وحشمي', 'امشي اتحجبي وترباي', 'فمك جبهتك قدقد', 'قبح الله وجهك', 'وحد منهم نتيا', 'بهدلتينا يا طلابة', 'نت وحادة مهبول', 'مانسحقوش لي يربينا', 'نتي هيا امريدا', 'شكون هاد جرانة', 'تجمعي وماكيش حاشمة', 'ترخف انت وهي', 'انتي انسانة مكروها', 'اهدري بالعربية يالبدوية', 'عندها جبهة التحرير', 'وتزيد تكذب _', 'من هذا البوكمون', 'بوجبهة مكاموفليا بالشعر', 'تكذبي وبزاف تاني', 'جبهتك والكل يضحك', 'تروحي ماشي خير', 'اعقاقي طلعي القلب', 'شكون الطحانين لعرضوها', 'روحي تخري بعيد', 'في سلة المهملات', 'تفوه وجه الشر', 'الجزاير مرحاض فرنسا', 'قيو الزلط واعر', 'الله لاتربحك نشالله', 'بركاي بلاكدب اف', 'روحي تلعبي بعيد', 'ادي حكايتك بعيد', 'خريه مهما بررتي', 'قييو راهم فاقو', 'امشي تخراي بعيد', 'جبهة التحرير الوطني', 'مزالك عايشة الجبهة', 'الزبلة درتولها الشان', 'نحي اعلينا لخمج', 'بودماغ شوشا تاعك', 'وتزوجها مسكينة بارت', 'ياو فاقو نعناعة', 'يخي خرية يخي', 'اضربو يعرف مضربو', 'اتفه مخلوقات الجزاير', 'الجبهة تاعك ختيتو', 'كاين المرخس بزاف', 'لا نحتاج امثالكي', 'متحشميش وجهك صحيح', 'طز فى وجهك', 'راهم فاقو طز', 'فاقو احكيها لبيبيط', 'كذابة على الشعب', 'حكام العسكر الخبيث', 'سو تاع امك', 'يحق راص تاعك', 'يحبو نيكو معليش', 'اعطيلهم ونحيلهم الكبت', 'برتي برابي نشاله', 'حشا خلق ربي', 'ياودي انت هيشة', 'يا خي مهرجهة', 'خامجة خماج تفواا', 'تفو خماج وشكرا', 'نتيا نسيتي روحك', 'نحكمها نفعل فيها', 'حلبوها ولات تكبر', '20 دورو مصدي', 'انت حاشاك والسلام', 'قادري روحك يالالا', 'الله لا تربحك', 'مونية عروس الزيڨوات', 'انسانة مهيش متربية', 'القصاص يطبق عليك', 'دير كلو مكيج', 'الجزايري نقش كبير', 'ڨالتها جبهتك جبرية', 'بقداه تبات الليلة', 'وشبيه هذي تخلط', 'ما ممربياش طفلة', 'التبهدايل كامل عندها', 'منيا غير متربية', 'متستاهلش الرد اصلا', 'خلينا من القح', 'كنت نحبك بصح كرهت', 'شحال نكرهها تشبه للحلوف', 'حبهت تحرير اعطيناكي عهدا', 'هدري نيشان يا العڨونى', 'واش حسبة روحك ويلا', 'الكحل ديرة حتى الوذنه', 'سمحيلي بصح قمح مشرك', 'روحي ترقدي على روحك', 'عندها الحق شعب جايح', 'علاه تهدر هك تعي', 'مالكي تعوجي في فمك', 'ريحا تعدم الشعب الجزايري', 'تبهدلي ياوحد الحلوفة الكافرة', 'نتي هيا كيف كيف', 'فمك كثر من جبهتك', 'حلابين الله غالب متفهموش', 'مسكين راح تروح للحبس', 'علاه انتي راكي مسلم', '3 3 9 99', 'جبهة زطل كيلو ورطل', 'وجهك روشي صحيح تفو', 'هاد وجه يريق عليه', 'كلمة حيوانات شويا صعيبة', 'او هي نسات روحها', 'هنا شحال غشيتك بزاف', 'لابسة صليب في صدرك', 'عندك راس تاع دواب', 'باينة كانت جيعانة وشبعت', 'ربي روحك مسحقينالكش تربينا', 'لحم رخيس حلبات براني', 'الغباء لو كان انسانا', 'تعوج فمها يخي خمبلوشة', 'واشكون انت يا حلوف', 'واش خامج في هضرتها', 'جبهتك وسركاجي كيف كيف', 'خرية ناطقة حاشا الناس', 'مازالكي دوري انا كرهتك', 'وجهك صحيح يا متعجرفة', 'امشي قلبي وجهك برك', 'شيطان في صورة انسان', 'اعطيني وجهك نكذب بيه', 'تفو وجهك صحيح متحشميش', 'راكم صامطين جماعة 16', 'تباني غير تاع بيبة', 'وشكون لسامع بيك مبعرة', 'الخرية هادي راح تفر', 'التاريخ مايرحمش ماعندك ماتبرري', 'اف انتي امراى تافها', 'اخ تفوه لوجه الصحيح', 'تكذبي خلاص مات الحوت', 'قيو اوهوه فاقو بيك', 'مونيا ڨاع منحبوكش صح', 'دبري حرفا خيرلك كرهتك', 'غباء مزمن مرض العصر', 'روحي تخراي معليش كذابة', 'مازال الريوق اسيلو من', 'اعطوك اكثر من حجمك', 'روحي سايي زهرك بعيد', 'يو تكدب وتزيد تكدب', 'حالة الجيعان كي يشبع', 'جبريا كافيا تبقاي كافيا', 'ياو خلاست عليك مال', 'ربي اذلك مزالكي تكذبي', 'وجه الطاجين مازالت تبان', 'نتي من بكري فايحة', 'ن ترجمة نحن معك', 'شحال تكذب وجها صحيح', 'همعليش وكيلك ربي برك', 'روحي يا وجاه زاك', 'ياو قيو فاقو بيك', 'كذابه رقعي القعره كبيره', 'مليح القزول يا محاينك', 'واش يا المكبوتة شوية', 'قولي والله يخي يخي', 'الوقاحة في ابشع صورها', 'اشحال منحبهاش هاذ المعزة', 'ماعندك ماتحكي عفناك تفو', 'وجهك صحيح يا المخلوعة', 'بف زيڨو راه يهدار', 'ما تحشميش على روحك', 'خستتني درجة نتاع سكالي', 'ماتاطولهاش قيمة هاذي مثل', 'لا تجعلوا الحمقى مشاهير', 'روحي تلعبي اوجه الطواليت', 'هذي مالقاتش لي يلوحهولها', 'واش راكي حسبا روحك', 'وش حاطا روحك باخصة', 'هادي ديجا مشي بنادم', 'مكيش مربيا تزوخي بدراهمك', 'كي نلصڨك نطير عليك', 'اشكون الجزانة هادي خوتي', 'عيدارية يا بنت الحركي', 'روح يبغلة كيشغل انسان', 'رخيسا مكيش بنة دزااير', 'فرطاسة ولا تعرف تقصف', 'جبهتها قداه تحسب تيمومة', 'والله ما يوڨفلي عليك', 'هذي شحال عندها ماحففتش', 'استري روحك يا جايحة', 'وجهك عڨبة وانا عيت', 'هذه المسخوطة مريضة نفسيا', 'ق ح ب ة', 'روحي تزوجي وحد بايرا', 'الله يذلك يا مونيا', 'هدي واش حاسبة روحها', 'الصح يحرحر يا بوسروال', 'بينا ملقيتش ليكسرك الترما', 'احذرو منها اصلها ياهودية', 'احذر منها اصلها يهودية', 'نتي شكون يشوف فيك']\n"
     ]
    }
   ],
   "source": [
    "new_bad_words = list_1 + list_2 + list_3 + list_4\n",
    "print(new_bad_words)"
   ]
  },
  {
   "cell_type": "code",
   "execution_count": 27,
   "id": "8f7f33df",
   "metadata": {},
   "outputs": [],
   "source": [
    "df = pd.DataFrame(new_bad_words)"
   ]
  },
  {
   "cell_type": "code",
   "execution_count": 28,
   "id": "e69c6f69",
   "metadata": {},
   "outputs": [],
   "source": [
    "df.to_csv(\"../Data/new_bad_words\")"
   ]
  },
  {
   "cell_type": "markdown",
   "id": "3e431388",
   "metadata": {},
   "source": [
    "### After getting the new list of bad words :\n",
    "we have checked if these are really bad words and are deleting some unnecessary words"
   ]
  },
  {
   "cell_type": "code",
   "execution_count": 29,
   "id": "b990825a",
   "metadata": {},
   "outputs": [
    {
     "data": {
      "text/html": [
       "<div>\n",
       "<style scoped>\n",
       "    .dataframe tbody tr th:only-of-type {\n",
       "        vertical-align: middle;\n",
       "    }\n",
       "\n",
       "    .dataframe tbody tr th {\n",
       "        vertical-align: top;\n",
       "    }\n",
       "\n",
       "    .dataframe thead th {\n",
       "        text-align: right;\n",
       "    }\n",
       "</style>\n",
       "<table border=\"1\" class=\"dataframe\">\n",
       "  <thead>\n",
       "    <tr style=\"text-align: right;\">\n",
       "      <th></th>\n",
       "      <th>bad_word</th>\n",
       "      <th>lenght</th>\n",
       "    </tr>\n",
       "  </thead>\n",
       "  <tbody>\n",
       "    <tr>\n",
       "      <th>0</th>\n",
       "      <td>بف</td>\n",
       "      <td>1</td>\n",
       "    </tr>\n",
       "    <tr>\n",
       "      <th>1</th>\n",
       "      <td>فايحا</td>\n",
       "      <td>1</td>\n",
       "    </tr>\n",
       "    <tr>\n",
       "      <th>2</th>\n",
       "      <td>شادي</td>\n",
       "      <td>1</td>\n",
       "    </tr>\n",
       "    <tr>\n",
       "      <th>3</th>\n",
       "      <td>نكم</td>\n",
       "      <td>1</td>\n",
       "    </tr>\n",
       "    <tr>\n",
       "      <th>4</th>\n",
       "      <td>رخيسا</td>\n",
       "      <td>1</td>\n",
       "    </tr>\n",
       "  </tbody>\n",
       "</table>\n",
       "</div>"
      ],
      "text/plain": [
       "  bad_word  lenght\n",
       "0       بف       1\n",
       "1    فايحا       1\n",
       "2     شادي       1\n",
       "3      نكم       1\n",
       "4    رخيسا       1"
      ]
     },
     "execution_count": 29,
     "metadata": {},
     "output_type": "execute_result"
    }
   ],
   "source": [
    "df = pd.read_csv(\"../Data/new_bad_words.csv\")\n",
    "df = df[[\"bad_word\",\"lenght\"]]\n",
    "df.head()"
   ]
  },
  {
   "cell_type": "markdown",
   "id": "3a0db969",
   "metadata": {},
   "source": [
    "## Add the new words to the dictionary :"
   ]
  },
  {
   "cell_type": "code",
   "execution_count": 30,
   "id": "a3f7483d",
   "metadata": {},
   "outputs": [],
   "source": [
    "def adding_words_to_dictionary_with_frequency():\n",
    "    dictionary = pd.read_csv('../Data/dictionaryWithFrequency.csv')\n",
    "    dictionary = dict(zip(dictionary[\"bad_word\"], dictionary[\"frequency\"]))\n",
    "\n",
    "    new_bad_words = pd.read_csv('../Data/new_bad_words.csv')\n",
    "    new_bad_words = new_bad_words[[\"bad_word\"]]\n",
    "\n",
    "    for i in new_bad_words.index:\n",
    "        new_word = (new_bad_words.loc[i][\"bad_word\"])\n",
    "        if new_word in dictionary :\n",
    "            dictionary[new_word] = (dictionary[new_word] + 1)\n",
    "        else :\n",
    "            dictionary[new_word] = 1\n",
    "    return dictionary "
   ]
  },
  {
   "cell_type": "code",
   "execution_count": 31,
   "id": "38e191ee",
   "metadata": {},
   "outputs": [],
   "source": [
    "dictionary = pd.read_csv('../Data/dictionaryWithFrequency.csv')\n",
    "bad_words = pd.read_csv('../Data/new_bad_words.csv')\n"
   ]
  },
  {
   "cell_type": "code",
   "execution_count": 32,
   "id": "1d7c2ebb",
   "metadata": {},
   "outputs": [
    {
     "name": "stdout",
     "output_type": "stream",
     "text": [
      "218\n",
      "385\n"
     ]
    }
   ],
   "source": [
    "print(len(dictionary))\n",
    "print(len(bad_words))"
   ]
  },
  {
   "cell_type": "code",
   "execution_count": 33,
   "id": "265ec0bc",
   "metadata": {},
   "outputs": [],
   "source": [
    "new_dict = adding_words_to_dictionary_with_frequency()"
   ]
  },
  {
   "cell_type": "code",
   "execution_count": 36,
   "id": "cb0e22f1",
   "metadata": {},
   "outputs": [
    {
     "name": "stdout",
     "output_type": "stream",
     "text": [
      "582\n"
     ]
    }
   ],
   "source": [
    "print(len(new_dict))"
   ]
  },
  {
   "cell_type": "code",
   "execution_count": 37,
   "id": "fddcf8ab",
   "metadata": {},
   "outputs": [],
   "source": [
    "pd.DataFrame(list(new_dict.items()),columns = ['bad_word','frequency'] ).to_csv('../Data/dictionary_with_new_bad_words.csv')"
   ]
  }
 ],
 "metadata": {
  "kernelspec": {
   "display_name": "Python 3",
   "language": "python",
   "name": "python3"
  },
  "language_info": {
   "codemirror_mode": {
    "name": "ipython",
    "version": 3
   },
   "file_extension": ".py",
   "mimetype": "text/x-python",
   "name": "python",
   "nbconvert_exporter": "python",
   "pygments_lexer": "ipython3",
   "version": "3.8.8"
  }
 },
 "nbformat": 4,
 "nbformat_minor": 5
}

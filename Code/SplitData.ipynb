{
 "cells": [
  {
   "cell_type": "code",
   "execution_count": 1,
   "metadata": {},
   "outputs": [],
   "source": [
    "import nltk \n",
    "import pandas as pd \n",
    "from nltk import ngrams\n",
    "import numpy as np"
   ]
  },
  {
   "cell_type": "code",
   "execution_count": 2,
   "metadata": {},
   "outputs": [],
   "source": [
    "annotatedData_1 = pd.read_csv(\"../Data/data_1/PreProcessedYouTubeDataFileAndAnnotated.csv\")\n",
    "annotatedData_2 = pd.read_csv(\"../Data/data_2/PreProcessedYouTubeDataFileAndAnnotated.csv\")"
   ]
  },
  {
   "cell_type": "code",
   "execution_count": 3,
   "metadata": {},
   "outputs": [],
   "source": [
    "annotatedData_1 = annotatedData_1.iloc[:,1:]\n",
    "annotatedData_2 = annotatedData_2.iloc[:,1:]"
   ]
  },
  {
   "cell_type": "code",
   "execution_count": 4,
   "metadata": {},
   "outputs": [],
   "source": [
    "def remove_non_algerian_dialect(data):\n",
    "    for index in range(len(data)) : \n",
    "        if data.iloc[index][\"Algerian Dialect\"] == \"n\":\n",
    "            data.drop(data.index[index], inplace = True)\n",
    "    return data "
   ]
  },
  {
   "cell_type": "code",
   "execution_count": 5,
   "metadata": {},
   "outputs": [
    {
     "name": "stdout",
     "output_type": "stream",
     "text": [
      "Data 1 : 2567\n",
      "Data 2 : 6068\n"
     ]
    }
   ],
   "source": [
    "annotatedData_1 = remove_non_algerian_dialect(annotatedData_1)\n",
    "print(f'Data 1 : {len(annotatedData_1)}')\n",
    "\n",
    "annotatedData_2 = remove_non_algerian_dialect(annotatedData_2)\n",
    "print(f'Data 2 : {len(annotatedData_2)}')"
   ]
  },
  {
   "cell_type": "code",
   "execution_count": 6,
   "metadata": {},
   "outputs": [],
   "source": [
    "annotatedData_1 = annotatedData_1.iloc[:,:6]\n",
    "annotatedData_2 = annotatedData_2.iloc[:,:6]"
   ]
  },
  {
   "cell_type": "code",
   "execution_count": 7,
   "metadata": {},
   "outputs": [],
   "source": [
    "# Separate offensive and non offensive data : \n",
    "def separate(data):\n",
    "    offensiveComment = pd.DataFrame(columns=['author', 'authorChannelUrl', 'text','likeCount', 'publishedAt', 'offensive/non offensive'])\n",
    "    nonOffensiveComment = pd.DataFrame(columns=['author', 'authorChannelUrl', 'text','likeCount', 'publishedAt', 'offensive/non offensive'])\n",
    "\n",
    "    for index in range(len(data)):\n",
    "        if data.iloc[index][\"offensive/non offensive\"] == \"p\":\n",
    "            offensiveComment = offensiveComment.append(data.iloc[index])\n",
    "        else :\n",
    "            nonOffensiveComment = nonOffensiveComment.append(data.iloc[index])\n",
    "    return offensiveComment, nonOffensiveComment"
   ]
  },
  {
   "cell_type": "code",
   "execution_count": 8,
   "metadata": {},
   "outputs": [],
   "source": [
    "offensiveComment_1 , nonOffensiveComment_1 = separate(annotatedData_1)\n",
    "offensiveComment_2 , nonOffensiveComment_2 = separate(annotatedData_2)"
   ]
  },
  {
   "cell_type": "code",
   "execution_count": 9,
   "metadata": {},
   "outputs": [
    {
     "name": "stdout",
     "output_type": "stream",
     "text": [
      "Data 1 :\n",
      "Offensive : 1432\n",
      "Non Offensive : 1135\n"
     ]
    }
   ],
   "source": [
    "print(\"Data 1 :\")\n",
    "print(f'Offensive : {len(offensiveComment_1)}')\n",
    "print(f'Non Offensive : {len(nonOffensiveComment_1)}')"
   ]
  },
  {
   "cell_type": "code",
   "execution_count": 10,
   "metadata": {},
   "outputs": [
    {
     "name": "stdout",
     "output_type": "stream",
     "text": [
      "Data 2 :\n",
      "Offensive : 3462\n",
      "Non Offensive : 2606\n"
     ]
    }
   ],
   "source": [
    "print(\"Data 2 :\")\n",
    "print(f'Offensive : {len(offensiveComment_2)}')\n",
    "print(f'Non Offensive : {len(nonOffensiveComment_2)}')"
   ]
  },
  {
   "cell_type": "code",
   "execution_count": 11,
   "metadata": {},
   "outputs": [],
   "source": [
    "from sklearn.model_selection import train_test_split\n",
    "\n",
    "X_train_1, X_test_1, y_train_1, y_test_1 = train_test_split(annotatedData_1['text'], annotatedData_1[\"offensive/non offensive\"], test_size=0.15)\n",
    "\n",
    "X_train_2, X_test_2, y_train_2, y_test_2 = train_test_split(annotatedData_2['text'], annotatedData_2[\"offensive/non offensive\"], test_size=0.15)"
   ]
  },
  {
   "cell_type": "code",
   "execution_count": 12,
   "metadata": {},
   "outputs": [
    {
     "name": "stdout",
     "output_type": "stream",
     "text": [
      "(2181,)\n",
      "(386,)\n",
      "(2181,)\n",
      "(386,)\n"
     ]
    }
   ],
   "source": [
    "print(X_train_1.shape)\n",
    "print(X_test_1.shape)\n",
    "print(y_train_1.shape)\n",
    "print(y_test_1.shape)"
   ]
  },
  {
   "cell_type": "code",
   "execution_count": 13,
   "metadata": {},
   "outputs": [
    {
     "name": "stdout",
     "output_type": "stream",
     "text": [
      "(5157,)\n",
      "(911,)\n",
      "(5157,)\n",
      "(911,)\n"
     ]
    }
   ],
   "source": [
    "print(X_train_2.shape)\n",
    "print(X_test_2.shape)\n",
    "print(y_train_2.shape)\n",
    "print(y_test_2.shape)"
   ]
  },
  {
   "cell_type": "code",
   "execution_count": 14,
   "metadata": {},
   "outputs": [],
   "source": [
    "X_train_1.to_csv('../Data/data_1/Training_data/X.csv')\n",
    "X_test_1.to_csv('../Data/data_1/Testing_data/X.csv')\n",
    "y_train_1.to_csv('../Data/data_1/Training_data/Y.csv')\n",
    "y_test_1.to_csv('../Data/data_1/Testing_data/Y.csv')"
   ]
  },
  {
   "cell_type": "code",
   "execution_count": 15,
   "metadata": {},
   "outputs": [],
   "source": [
    "X_train_2.to_csv('../Data/data_2/Training_data/X.csv')\n",
    "X_test_2.to_csv('../Data/data_2/Testing_data/X.csv')\n",
    "y_train_2.to_csv('../Data/data_2/Training_data/Y.csv')\n",
    "y_test_2.to_csv('../Data/data_2/Testing_data/Y.csv')"
   ]
  },
  {
   "cell_type": "code",
   "execution_count": null,
   "metadata": {},
   "outputs": [],
   "source": []
  }
 ],
 "metadata": {
  "kernelspec": {
   "display_name": "Python 3",
   "language": "python",
   "name": "python3"
  },
  "language_info": {
   "codemirror_mode": {
    "name": "ipython",
    "version": 3
   },
   "file_extension": ".py",
   "mimetype": "text/x-python",
   "name": "python",
   "nbconvert_exporter": "python",
   "pygments_lexer": "ipython3",
   "version": "3.7.6"
  }
 },
 "nbformat": 4,
 "nbformat_minor": 4
}

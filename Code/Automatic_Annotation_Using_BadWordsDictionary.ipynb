{
 "cells": [
  {
   "cell_type": "code",
   "execution_count": 2,
   "metadata": {},
   "outputs": [],
   "source": [
    "import pandas as pd \n",
    "from nltk import ngrams\n",
    "import numpy as np"
   ]
  },
  {
   "cell_type": "markdown",
   "metadata": {},
   "source": [
    "## Read the data from the files :"
   ]
  },
  {
   "cell_type": "markdown",
   "metadata": {},
   "source": [
    "### Pre-Processed And Annotated YouTube Data :"
   ]
  },
  {
   "cell_type": "code",
   "execution_count": 38,
   "metadata": {},
   "outputs": [],
   "source": [
    "data = pd.read_csv('../Data/PreProcessedYouTubeDataFileAndAnnotated.csv')"
   ]
  },
  {
   "cell_type": "code",
   "execution_count": 39,
   "metadata": {
    "scrolled": true
   },
   "outputs": [
    {
     "data": {
      "text/html": [
       "<div>\n",
       "<style scoped>\n",
       "    .dataframe tbody tr th:only-of-type {\n",
       "        vertical-align: middle;\n",
       "    }\n",
       "\n",
       "    .dataframe tbody tr th {\n",
       "        vertical-align: top;\n",
       "    }\n",
       "\n",
       "    .dataframe thead th {\n",
       "        text-align: right;\n",
       "    }\n",
       "</style>\n",
       "<table border=\"1\" class=\"dataframe\">\n",
       "  <thead>\n",
       "    <tr style=\"text-align: right;\">\n",
       "      <th></th>\n",
       "      <th>author</th>\n",
       "      <th>authorChannelUrl</th>\n",
       "      <th>text</th>\n",
       "      <th>likeCount</th>\n",
       "      <th>publishedAt</th>\n",
       "      <th>offensive/non offensive</th>\n",
       "    </tr>\n",
       "  </thead>\n",
       "  <tbody>\n",
       "    <tr>\n",
       "      <th>0</th>\n",
       "      <td>Mokran Tarak</td>\n",
       "      <td>http://www.youtube.com/channel/UCles9OFN0Ngktk...</td>\n",
       "      <td>فمك كبير من وجهك تقبلي في كميرة وجهك صحيحة</td>\n",
       "      <td>60</td>\n",
       "      <td>2020-12-24T21:27:56Z</td>\n",
       "      <td>p</td>\n",
       "    </tr>\n",
       "    <tr>\n",
       "      <th>1</th>\n",
       "      <td>Hicham Absaoui</td>\n",
       "      <td>http://www.youtube.com/channel/UCzuY7uYl2regXl...</td>\n",
       "      <td>سلام الله عليكم ورحمته وبركاته قلولهاةتزول الك...</td>\n",
       "      <td>0</td>\n",
       "      <td>2021-04-23T05:12:41Z</td>\n",
       "      <td>n</td>\n",
       "    </tr>\n",
       "    <tr>\n",
       "      <th>2</th>\n",
       "      <td>Miss Loona</td>\n",
       "      <td>http://www.youtube.com/channel/UCTnw4ZGfNylgSJ...</td>\n",
       "      <td>افهمي حاجة النداء يكون بصفة الجمع لي مش معني ر...</td>\n",
       "      <td>1</td>\n",
       "      <td>2021-04-22T11:40:22Z</td>\n",
       "      <td>n</td>\n",
       "    </tr>\n",
       "    <tr>\n",
       "      <th>3</th>\n",
       "      <td>Amani Maryola</td>\n",
       "      <td>http://www.youtube.com/channel/UCBkuU6BHLiKCfN...</td>\n",
       "      <td>مش تقصد رجال اي تقصد خوك باباك يعني كل رجال ال...</td>\n",
       "      <td>1</td>\n",
       "      <td>2021-04-22T09:37:04Z</td>\n",
       "      <td>n</td>\n",
       "    </tr>\n",
       "    <tr>\n",
       "      <th>4</th>\n",
       "      <td>Miss Loona</td>\n",
       "      <td>http://www.youtube.com/channel/UCTnw4ZGfNylgSJ...</td>\n",
       "      <td>لي غاضتو معناها راهي عليه</td>\n",
       "      <td>2</td>\n",
       "      <td>2021-04-22T09:23:21Z</td>\n",
       "      <td>n</td>\n",
       "    </tr>\n",
       "  </tbody>\n",
       "</table>\n",
       "</div>"
      ],
      "text/plain": [
       "           author                                   authorChannelUrl  \\\n",
       "0    Mokran Tarak  http://www.youtube.com/channel/UCles9OFN0Ngktk...   \n",
       "1  Hicham Absaoui  http://www.youtube.com/channel/UCzuY7uYl2regXl...   \n",
       "2      Miss Loona  http://www.youtube.com/channel/UCTnw4ZGfNylgSJ...   \n",
       "3   Amani Maryola  http://www.youtube.com/channel/UCBkuU6BHLiKCfN...   \n",
       "4      Miss Loona  http://www.youtube.com/channel/UCTnw4ZGfNylgSJ...   \n",
       "\n",
       "                                                text  likeCount  \\\n",
       "0         فمك كبير من وجهك تقبلي في كميرة وجهك صحيحة         60   \n",
       "1  سلام الله عليكم ورحمته وبركاته قلولهاةتزول الك...          0   \n",
       "2  افهمي حاجة النداء يكون بصفة الجمع لي مش معني ر...          1   \n",
       "3  مش تقصد رجال اي تقصد خوك باباك يعني كل رجال ال...          1   \n",
       "4                          لي غاضتو معناها راهي عليه          2   \n",
       "\n",
       "            publishedAt offensive/non offensive  \n",
       "0  2020-12-24T21:27:56Z                       p  \n",
       "1  2021-04-23T05:12:41Z                       n  \n",
       "2  2021-04-22T11:40:22Z                       n  \n",
       "3  2021-04-22T09:37:04Z                       n  \n",
       "4  2021-04-22T09:23:21Z                       n  "
      ]
     },
     "execution_count": 39,
     "metadata": {},
     "output_type": "execute_result"
    }
   ],
   "source": [
    "#data = data[[\"text\",\"offensive/non offensive\"]]\n",
    "data = data.iloc[:,1:-1]\n",
    "data.head()"
   ]
  },
  {
   "cell_type": "markdown",
   "metadata": {},
   "source": [
    "### Dictionary with new bad words :\n",
    "The new bad words have extracted from the offensive comments that have lenght >= 4."
   ]
  },
  {
   "cell_type": "code",
   "execution_count": 40,
   "metadata": {},
   "outputs": [],
   "source": [
    "dictionary = pd.read_csv('../Data/dictionary_with_new_bad_words.csv')"
   ]
  },
  {
   "cell_type": "markdown",
   "metadata": {},
   "source": [
    "Convert the dictionary from DataFram type to Dict type"
   ]
  },
  {
   "cell_type": "code",
   "execution_count": 41,
   "metadata": {},
   "outputs": [],
   "source": [
    "dictionary = dict(zip(dictionary[\"bad_word\"], dictionary[\"frequency\"]))"
   ]
  },
  {
   "cell_type": "markdown",
   "metadata": {},
   "source": [
    "### Annotate :\n",
    "It is a function used to automaticly annotate a comment as offensive if it contains a bad word present in the dictionary "
   ]
  },
  {
   "cell_type": "code",
   "execution_count": 42,
   "metadata": {},
   "outputs": [],
   "source": [
    "def annotate(comment):\n",
    "    dictionary = pd.read_csv('../Data/dictionary_with_new_bad_words.csv')\n",
    "    dictionary = dict(zip(dictionary[\"bad_word\"], dictionary[\"frequency\"]))\n",
    "    annotation = \"n\"\n",
    "    for n in [1,2,3,4]:\n",
    "        commentNgrams = ngrams(comment.split(), n)\n",
    "        for grams in commentNgrams:\n",
    "            key = ' '.join(grams)\n",
    "            if key in dictionary : \n",
    "                annotation = \"p\"\n",
    "    return annotation"
   ]
  },
  {
   "cell_type": "code",
   "execution_count": 43,
   "metadata": {},
   "outputs": [],
   "source": [
    "data['auto_annotation'] = data[\"text\"].apply(lambda x: annotate(x)) \n"
   ]
  },
  {
   "cell_type": "code",
   "execution_count": 44,
   "metadata": {},
   "outputs": [],
   "source": [
    "data['result'] = np.where(data[\"offensive/non offensive\"] == data[\"auto_annotation\"], 1, 0) \n"
   ]
  },
  {
   "cell_type": "code",
   "execution_count": 45,
   "metadata": {},
   "outputs": [
    {
     "data": {
      "text/html": [
       "<div>\n",
       "<style scoped>\n",
       "    .dataframe tbody tr th:only-of-type {\n",
       "        vertical-align: middle;\n",
       "    }\n",
       "\n",
       "    .dataframe tbody tr th {\n",
       "        vertical-align: top;\n",
       "    }\n",
       "\n",
       "    .dataframe thead th {\n",
       "        text-align: right;\n",
       "    }\n",
       "</style>\n",
       "<table border=\"1\" class=\"dataframe\">\n",
       "  <thead>\n",
       "    <tr style=\"text-align: right;\">\n",
       "      <th></th>\n",
       "      <th>author</th>\n",
       "      <th>authorChannelUrl</th>\n",
       "      <th>text</th>\n",
       "      <th>likeCount</th>\n",
       "      <th>publishedAt</th>\n",
       "      <th>offensive/non offensive</th>\n",
       "      <th>auto_annotation</th>\n",
       "      <th>result</th>\n",
       "    </tr>\n",
       "  </thead>\n",
       "  <tbody>\n",
       "    <tr>\n",
       "      <th>0</th>\n",
       "      <td>Mokran Tarak</td>\n",
       "      <td>http://www.youtube.com/channel/UCles9OFN0Ngktk...</td>\n",
       "      <td>فمك كبير من وجهك تقبلي في كميرة وجهك صحيحة</td>\n",
       "      <td>60</td>\n",
       "      <td>2020-12-24T21:27:56Z</td>\n",
       "      <td>p</td>\n",
       "      <td>n</td>\n",
       "      <td>0</td>\n",
       "    </tr>\n",
       "    <tr>\n",
       "      <th>1</th>\n",
       "      <td>Hicham Absaoui</td>\n",
       "      <td>http://www.youtube.com/channel/UCzuY7uYl2regXl...</td>\n",
       "      <td>سلام الله عليكم ورحمته وبركاته قلولهاةتزول الك...</td>\n",
       "      <td>0</td>\n",
       "      <td>2021-04-23T05:12:41Z</td>\n",
       "      <td>n</td>\n",
       "      <td>n</td>\n",
       "      <td>1</td>\n",
       "    </tr>\n",
       "    <tr>\n",
       "      <th>2</th>\n",
       "      <td>Miss Loona</td>\n",
       "      <td>http://www.youtube.com/channel/UCTnw4ZGfNylgSJ...</td>\n",
       "      <td>افهمي حاجة النداء يكون بصفة الجمع لي مش معني ر...</td>\n",
       "      <td>1</td>\n",
       "      <td>2021-04-22T11:40:22Z</td>\n",
       "      <td>n</td>\n",
       "      <td>n</td>\n",
       "      <td>1</td>\n",
       "    </tr>\n",
       "    <tr>\n",
       "      <th>3</th>\n",
       "      <td>Amani Maryola</td>\n",
       "      <td>http://www.youtube.com/channel/UCBkuU6BHLiKCfN...</td>\n",
       "      <td>مش تقصد رجال اي تقصد خوك باباك يعني كل رجال ال...</td>\n",
       "      <td>1</td>\n",
       "      <td>2021-04-22T09:37:04Z</td>\n",
       "      <td>n</td>\n",
       "      <td>n</td>\n",
       "      <td>1</td>\n",
       "    </tr>\n",
       "    <tr>\n",
       "      <th>4</th>\n",
       "      <td>Miss Loona</td>\n",
       "      <td>http://www.youtube.com/channel/UCTnw4ZGfNylgSJ...</td>\n",
       "      <td>لي غاضتو معناها راهي عليه</td>\n",
       "      <td>2</td>\n",
       "      <td>2021-04-22T09:23:21Z</td>\n",
       "      <td>n</td>\n",
       "      <td>n</td>\n",
       "      <td>1</td>\n",
       "    </tr>\n",
       "  </tbody>\n",
       "</table>\n",
       "</div>"
      ],
      "text/plain": [
       "           author                                   authorChannelUrl  \\\n",
       "0    Mokran Tarak  http://www.youtube.com/channel/UCles9OFN0Ngktk...   \n",
       "1  Hicham Absaoui  http://www.youtube.com/channel/UCzuY7uYl2regXl...   \n",
       "2      Miss Loona  http://www.youtube.com/channel/UCTnw4ZGfNylgSJ...   \n",
       "3   Amani Maryola  http://www.youtube.com/channel/UCBkuU6BHLiKCfN...   \n",
       "4      Miss Loona  http://www.youtube.com/channel/UCTnw4ZGfNylgSJ...   \n",
       "\n",
       "                                                text  likeCount  \\\n",
       "0         فمك كبير من وجهك تقبلي في كميرة وجهك صحيحة         60   \n",
       "1  سلام الله عليكم ورحمته وبركاته قلولهاةتزول الك...          0   \n",
       "2  افهمي حاجة النداء يكون بصفة الجمع لي مش معني ر...          1   \n",
       "3  مش تقصد رجال اي تقصد خوك باباك يعني كل رجال ال...          1   \n",
       "4                          لي غاضتو معناها راهي عليه          2   \n",
       "\n",
       "            publishedAt offensive/non offensive auto_annotation  result  \n",
       "0  2020-12-24T21:27:56Z                       p               n       0  \n",
       "1  2021-04-23T05:12:41Z                       n               n       1  \n",
       "2  2021-04-22T11:40:22Z                       n               n       1  \n",
       "3  2021-04-22T09:37:04Z                       n               n       1  \n",
       "4  2021-04-22T09:23:21Z                       n               n       1  "
      ]
     },
     "execution_count": 45,
     "metadata": {},
     "output_type": "execute_result"
    }
   ],
   "source": [
    "data.head()"
   ]
  },
  {
   "cell_type": "code",
   "execution_count": 46,
   "metadata": {},
   "outputs": [
    {
     "name": "stdout",
     "output_type": "stream",
     "text": [
      "1815\n"
     ]
    }
   ],
   "source": [
    "true_annotation = np.sum(data[\"result\"])\n",
    "print(true_annotation)"
   ]
  },
  {
   "cell_type": "code",
   "execution_count": 47,
   "metadata": {},
   "outputs": [
    {
     "name": "stdout",
     "output_type": "stream",
     "text": [
      "765\n"
     ]
    }
   ],
   "source": [
    "false_annotation = len(data) - true_annotation\n",
    "print(false_annotation)"
   ]
  },
  {
   "cell_type": "code",
   "execution_count": 48,
   "metadata": {},
   "outputs": [
    {
     "data": {
      "text/plain": [
       "70.34883720930233"
      ]
     },
     "execution_count": 48,
     "metadata": {},
     "output_type": "execute_result"
    }
   ],
   "source": [
    "true_annotation*100/ len(data)"
   ]
  },
  {
   "cell_type": "markdown",
   "metadata": {},
   "source": [
    "# Using Annotation :\n",
    "Using Annotation Function to get offensive Comments from the non annotated data"
   ]
  },
  {
   "cell_type": "code",
   "execution_count": 49,
   "metadata": {},
   "outputs": [],
   "source": [
    "data_non_annotated = pd.read_csv('../Data/PreProcessedYouTubeDataFileAndNonAnnotated.csv')"
   ]
  },
  {
   "cell_type": "code",
   "execution_count": 50,
   "metadata": {},
   "outputs": [
    {
     "data": {
      "text/html": [
       "<div>\n",
       "<style scoped>\n",
       "    .dataframe tbody tr th:only-of-type {\n",
       "        vertical-align: middle;\n",
       "    }\n",
       "\n",
       "    .dataframe tbody tr th {\n",
       "        vertical-align: top;\n",
       "    }\n",
       "\n",
       "    .dataframe thead th {\n",
       "        text-align: right;\n",
       "    }\n",
       "</style>\n",
       "<table border=\"1\" class=\"dataframe\">\n",
       "  <thead>\n",
       "    <tr style=\"text-align: right;\">\n",
       "      <th></th>\n",
       "      <th>authorChannelUrl</th>\n",
       "      <th>text</th>\n",
       "      <th>likeCount</th>\n",
       "      <th>publishedAt</th>\n",
       "      <th>offensive/non offensive</th>\n",
       "      <th>auto_annotation</th>\n",
       "    </tr>\n",
       "  </thead>\n",
       "  <tbody>\n",
       "    <tr>\n",
       "      <th>0</th>\n",
       "      <td>http://www.youtube.com/channel/UCQ9IzqkTPyKz1J...</td>\n",
       "      <td>والله يا مونيا لي راكي تهدري عليهم هوما لي طلع...</td>\n",
       "      <td>0</td>\n",
       "      <td>2020-10-21T14:21:38Z</td>\n",
       "      <td>NaN</td>\n",
       "      <td>n</td>\n",
       "    </tr>\n",
       "    <tr>\n",
       "      <th>1</th>\n",
       "      <td>http://www.youtube.com/channel/UCfksSGorX_DMCr...</td>\n",
       "      <td>ماعندو مادخلك فينا حنا خاوة بنات دراري</td>\n",
       "      <td>0</td>\n",
       "      <td>2020-10-21T14:12:51Z</td>\n",
       "      <td>NaN</td>\n",
       "      <td>n</td>\n",
       "    </tr>\n",
       "    <tr>\n",
       "      <th>2</th>\n",
       "      <td>http://www.youtube.com/channel/UCMkdl3UbXl0ZjM...</td>\n",
       "      <td>اسما يعني انتي ماشي بنادم</td>\n",
       "      <td>0</td>\n",
       "      <td>2020-10-21T14:07:27Z</td>\n",
       "      <td>NaN</td>\n",
       "      <td>n</td>\n",
       "    </tr>\n",
       "    <tr>\n",
       "      <th>3</th>\n",
       "      <td>http://www.youtube.com/channel/UCp4Lr2iRd9USZt...</td>\n",
       "      <td>3 9 3 9 3كثر فيه الحسد النميمة القذف</td>\n",
       "      <td>0</td>\n",
       "      <td>2020-10-21T14:00:58Z</td>\n",
       "      <td>NaN</td>\n",
       "      <td>n</td>\n",
       "    </tr>\n",
       "    <tr>\n",
       "      <th>4</th>\n",
       "      <td>http://www.youtube.com/channel/UCUpIDbOPplowFB...</td>\n",
       "      <td>متحكلي متخليني طريق معوج لدبوش بلاد لهريب سعاد...</td>\n",
       "      <td>0</td>\n",
       "      <td>2020-10-21T13:59:50Z</td>\n",
       "      <td>NaN</td>\n",
       "      <td>n</td>\n",
       "    </tr>\n",
       "  </tbody>\n",
       "</table>\n",
       "</div>"
      ],
      "text/plain": [
       "                                    authorChannelUrl  \\\n",
       "0  http://www.youtube.com/channel/UCQ9IzqkTPyKz1J...   \n",
       "1  http://www.youtube.com/channel/UCfksSGorX_DMCr...   \n",
       "2  http://www.youtube.com/channel/UCMkdl3UbXl0ZjM...   \n",
       "3  http://www.youtube.com/channel/UCp4Lr2iRd9USZt...   \n",
       "4  http://www.youtube.com/channel/UCUpIDbOPplowFB...   \n",
       "\n",
       "                                                text  likeCount  \\\n",
       "0  والله يا مونيا لي راكي تهدري عليهم هوما لي طلع...          0   \n",
       "1             ماعندو مادخلك فينا حنا خاوة بنات دراري          0   \n",
       "2                          اسما يعني انتي ماشي بنادم          0   \n",
       "3               3 9 3 9 3كثر فيه الحسد النميمة القذف          0   \n",
       "4  متحكلي متخليني طريق معوج لدبوش بلاد لهريب سعاد...          0   \n",
       "\n",
       "            publishedAt  offensive/non offensive auto_annotation  \n",
       "0  2020-10-21T14:21:38Z                      NaN               n  \n",
       "1  2020-10-21T14:12:51Z                      NaN               n  \n",
       "2  2020-10-21T14:07:27Z                      NaN               n  \n",
       "3  2020-10-21T14:00:58Z                      NaN               n  \n",
       "4  2020-10-21T13:59:50Z                      NaN               n  "
      ]
     },
     "execution_count": 50,
     "metadata": {},
     "output_type": "execute_result"
    }
   ],
   "source": [
    "data_non_annotated = data_non_annotated.iloc[:,1:-1]\n",
    "\n",
    "data_non_annotated['auto_annotation'] = data_non_annotated[\"text\"].apply(lambda x: annotate(x)) \n",
    "data_non_annotated = data_non_annotated.iloc[:,1:]\n",
    "data_non_annotated.head()"
   ]
  },
  {
   "cell_type": "code",
   "execution_count": 51,
   "metadata": {},
   "outputs": [
    {
     "name": "stderr",
     "output_type": "stream",
     "text": [
      "<ipython-input-51-9c6225a04c8e>:6: SettingWithCopyWarning: \n",
      "A value is trying to be set on a copy of a slice from a DataFrame\n",
      "\n",
      "See the caveats in the documentation: https://pandas.pydata.org/pandas-docs/stable/user_guide/indexing.html#returning-a-view-versus-a-copy\n",
      "  comment[\"offensive/non offensive\"] = \"p\"\n"
     ]
    }
   ],
   "source": [
    "cpt = 0\n",
    "for index in range(len(data_non_annotated)) :\n",
    "    comment = data_non_annotated.iloc[index]\n",
    "    if comment[\"auto_annotation\"] == \"p\":\n",
    "        cpt += 1\n",
    "        comment[\"offensive/non offensive\"] = \"p\"\n",
    "        data = data.append(comment)\n",
    "        #print(comment[\"text\"])\n",
    "        #print(\"-------------------\")\n"
   ]
  },
  {
   "cell_type": "code",
   "execution_count": 53,
   "metadata": {
    "scrolled": true
   },
   "outputs": [
    {
     "name": "stdout",
     "output_type": "stream",
     "text": [
      "728\n"
     ]
    },
    {
     "data": {
      "text/html": [
       "<div>\n",
       "<style scoped>\n",
       "    .dataframe tbody tr th:only-of-type {\n",
       "        vertical-align: middle;\n",
       "    }\n",
       "\n",
       "    .dataframe tbody tr th {\n",
       "        vertical-align: top;\n",
       "    }\n",
       "\n",
       "    .dataframe thead th {\n",
       "        text-align: right;\n",
       "    }\n",
       "</style>\n",
       "<table border=\"1\" class=\"dataframe\">\n",
       "  <thead>\n",
       "    <tr style=\"text-align: right;\">\n",
       "      <th></th>\n",
       "      <th>author</th>\n",
       "      <th>authorChannelUrl</th>\n",
       "      <th>text</th>\n",
       "      <th>likeCount</th>\n",
       "      <th>publishedAt</th>\n",
       "      <th>offensive/non offensive</th>\n",
       "      <th>auto_annotation</th>\n",
       "    </tr>\n",
       "  </thead>\n",
       "  <tbody>\n",
       "    <tr>\n",
       "      <th>0</th>\n",
       "      <td>Mokran Tarak</td>\n",
       "      <td>http://www.youtube.com/channel/UCles9OFN0Ngktk...</td>\n",
       "      <td>فمك كبير من وجهك تقبلي في كميرة وجهك صحيحة</td>\n",
       "      <td>60</td>\n",
       "      <td>2020-12-24T21:27:56Z</td>\n",
       "      <td>p</td>\n",
       "      <td>n</td>\n",
       "    </tr>\n",
       "    <tr>\n",
       "      <th>1</th>\n",
       "      <td>Hicham Absaoui</td>\n",
       "      <td>http://www.youtube.com/channel/UCzuY7uYl2regXl...</td>\n",
       "      <td>سلام الله عليكم ورحمته وبركاته قلولهاةتزول الك...</td>\n",
       "      <td>0</td>\n",
       "      <td>2021-04-23T05:12:41Z</td>\n",
       "      <td>n</td>\n",
       "      <td>n</td>\n",
       "    </tr>\n",
       "    <tr>\n",
       "      <th>2</th>\n",
       "      <td>Miss Loona</td>\n",
       "      <td>http://www.youtube.com/channel/UCTnw4ZGfNylgSJ...</td>\n",
       "      <td>افهمي حاجة النداء يكون بصفة الجمع لي مش معني ر...</td>\n",
       "      <td>1</td>\n",
       "      <td>2021-04-22T11:40:22Z</td>\n",
       "      <td>n</td>\n",
       "      <td>n</td>\n",
       "    </tr>\n",
       "    <tr>\n",
       "      <th>3</th>\n",
       "      <td>Amani Maryola</td>\n",
       "      <td>http://www.youtube.com/channel/UCBkuU6BHLiKCfN...</td>\n",
       "      <td>مش تقصد رجال اي تقصد خوك باباك يعني كل رجال ال...</td>\n",
       "      <td>1</td>\n",
       "      <td>2021-04-22T09:37:04Z</td>\n",
       "      <td>n</td>\n",
       "      <td>n</td>\n",
       "    </tr>\n",
       "    <tr>\n",
       "      <th>4</th>\n",
       "      <td>Miss Loona</td>\n",
       "      <td>http://www.youtube.com/channel/UCTnw4ZGfNylgSJ...</td>\n",
       "      <td>لي غاضتو معناها راهي عليه</td>\n",
       "      <td>2</td>\n",
       "      <td>2021-04-22T09:23:21Z</td>\n",
       "      <td>n</td>\n",
       "      <td>n</td>\n",
       "    </tr>\n",
       "  </tbody>\n",
       "</table>\n",
       "</div>"
      ],
      "text/plain": [
       "           author                                   authorChannelUrl  \\\n",
       "0    Mokran Tarak  http://www.youtube.com/channel/UCles9OFN0Ngktk...   \n",
       "1  Hicham Absaoui  http://www.youtube.com/channel/UCzuY7uYl2regXl...   \n",
       "2      Miss Loona  http://www.youtube.com/channel/UCTnw4ZGfNylgSJ...   \n",
       "3   Amani Maryola  http://www.youtube.com/channel/UCBkuU6BHLiKCfN...   \n",
       "4      Miss Loona  http://www.youtube.com/channel/UCTnw4ZGfNylgSJ...   \n",
       "\n",
       "                                                text  likeCount  \\\n",
       "0         فمك كبير من وجهك تقبلي في كميرة وجهك صحيحة         60   \n",
       "1  سلام الله عليكم ورحمته وبركاته قلولهاةتزول الك...          0   \n",
       "2  افهمي حاجة النداء يكون بصفة الجمع لي مش معني ر...          1   \n",
       "3  مش تقصد رجال اي تقصد خوك باباك يعني كل رجال ال...          1   \n",
       "4                          لي غاضتو معناها راهي عليه          2   \n",
       "\n",
       "            publishedAt offensive/non offensive auto_annotation  \n",
       "0  2020-12-24T21:27:56Z                       p               n  \n",
       "1  2021-04-23T05:12:41Z                       n               n  \n",
       "2  2021-04-22T11:40:22Z                       n               n  \n",
       "3  2021-04-22T09:37:04Z                       n               n  \n",
       "4  2021-04-22T09:23:21Z                       n               n  "
      ]
     },
     "execution_count": 53,
     "metadata": {},
     "output_type": "execute_result"
    }
   ],
   "source": [
    "print(cpt)\n",
    "data = data.iloc[:,:7]\n",
    "data.head()"
   ]
  },
  {
   "cell_type": "code",
   "execution_count": 54,
   "metadata": {
    "scrolled": true
   },
   "outputs": [
    {
     "data": {
      "text/html": [
       "<div>\n",
       "<style scoped>\n",
       "    .dataframe tbody tr th:only-of-type {\n",
       "        vertical-align: middle;\n",
       "    }\n",
       "\n",
       "    .dataframe tbody tr th {\n",
       "        vertical-align: top;\n",
       "    }\n",
       "\n",
       "    .dataframe thead th {\n",
       "        text-align: right;\n",
       "    }\n",
       "</style>\n",
       "<table border=\"1\" class=\"dataframe\">\n",
       "  <thead>\n",
       "    <tr style=\"text-align: right;\">\n",
       "      <th></th>\n",
       "      <th>author</th>\n",
       "      <th>authorChannelUrl</th>\n",
       "      <th>text</th>\n",
       "      <th>likeCount</th>\n",
       "      <th>publishedAt</th>\n",
       "      <th>offensive/non offensive</th>\n",
       "      <th>auto_annotation</th>\n",
       "      <th>result</th>\n",
       "    </tr>\n",
       "  </thead>\n",
       "  <tbody>\n",
       "    <tr>\n",
       "      <th>0</th>\n",
       "      <td>Mokran Tarak</td>\n",
       "      <td>http://www.youtube.com/channel/UCles9OFN0Ngktk...</td>\n",
       "      <td>فمك كبير من وجهك تقبلي في كميرة وجهك صحيحة</td>\n",
       "      <td>60</td>\n",
       "      <td>2020-12-24T21:27:56Z</td>\n",
       "      <td>p</td>\n",
       "      <td>n</td>\n",
       "      <td>0</td>\n",
       "    </tr>\n",
       "    <tr>\n",
       "      <th>1</th>\n",
       "      <td>Hicham Absaoui</td>\n",
       "      <td>http://www.youtube.com/channel/UCzuY7uYl2regXl...</td>\n",
       "      <td>سلام الله عليكم ورحمته وبركاته قلولهاةتزول الك...</td>\n",
       "      <td>0</td>\n",
       "      <td>2021-04-23T05:12:41Z</td>\n",
       "      <td>n</td>\n",
       "      <td>n</td>\n",
       "      <td>1</td>\n",
       "    </tr>\n",
       "    <tr>\n",
       "      <th>2</th>\n",
       "      <td>Miss Loona</td>\n",
       "      <td>http://www.youtube.com/channel/UCTnw4ZGfNylgSJ...</td>\n",
       "      <td>افهمي حاجة النداء يكون بصفة الجمع لي مش معني ر...</td>\n",
       "      <td>1</td>\n",
       "      <td>2021-04-22T11:40:22Z</td>\n",
       "      <td>n</td>\n",
       "      <td>n</td>\n",
       "      <td>1</td>\n",
       "    </tr>\n",
       "    <tr>\n",
       "      <th>3</th>\n",
       "      <td>Amani Maryola</td>\n",
       "      <td>http://www.youtube.com/channel/UCBkuU6BHLiKCfN...</td>\n",
       "      <td>مش تقصد رجال اي تقصد خوك باباك يعني كل رجال ال...</td>\n",
       "      <td>1</td>\n",
       "      <td>2021-04-22T09:37:04Z</td>\n",
       "      <td>n</td>\n",
       "      <td>n</td>\n",
       "      <td>1</td>\n",
       "    </tr>\n",
       "    <tr>\n",
       "      <th>4</th>\n",
       "      <td>Miss Loona</td>\n",
       "      <td>http://www.youtube.com/channel/UCTnw4ZGfNylgSJ...</td>\n",
       "      <td>لي غاضتو معناها راهي عليه</td>\n",
       "      <td>2</td>\n",
       "      <td>2021-04-22T09:23:21Z</td>\n",
       "      <td>n</td>\n",
       "      <td>n</td>\n",
       "      <td>1</td>\n",
       "    </tr>\n",
       "  </tbody>\n",
       "</table>\n",
       "</div>"
      ],
      "text/plain": [
       "           author                                   authorChannelUrl  \\\n",
       "0    Mokran Tarak  http://www.youtube.com/channel/UCles9OFN0Ngktk...   \n",
       "1  Hicham Absaoui  http://www.youtube.com/channel/UCzuY7uYl2regXl...   \n",
       "2      Miss Loona  http://www.youtube.com/channel/UCTnw4ZGfNylgSJ...   \n",
       "3   Amani Maryola  http://www.youtube.com/channel/UCBkuU6BHLiKCfN...   \n",
       "4      Miss Loona  http://www.youtube.com/channel/UCTnw4ZGfNylgSJ...   \n",
       "\n",
       "                                                text  likeCount  \\\n",
       "0         فمك كبير من وجهك تقبلي في كميرة وجهك صحيحة         60   \n",
       "1  سلام الله عليكم ورحمته وبركاته قلولهاةتزول الك...          0   \n",
       "2  افهمي حاجة النداء يكون بصفة الجمع لي مش معني ر...          1   \n",
       "3  مش تقصد رجال اي تقصد خوك باباك يعني كل رجال ال...          1   \n",
       "4                          لي غاضتو معناها راهي عليه          2   \n",
       "\n",
       "            publishedAt offensive/non offensive auto_annotation  result  \n",
       "0  2020-12-24T21:27:56Z                       p               n       0  \n",
       "1  2021-04-23T05:12:41Z                       n               n       1  \n",
       "2  2021-04-22T11:40:22Z                       n               n       1  \n",
       "3  2021-04-22T09:37:04Z                       n               n       1  \n",
       "4  2021-04-22T09:23:21Z                       n               n       1  "
      ]
     },
     "execution_count": 54,
     "metadata": {},
     "output_type": "execute_result"
    }
   ],
   "source": [
    "data['result'] = np.where(data[\"offensive/non offensive\"] == data[\"auto_annotation\"], 1, 0) \n",
    "data.head()"
   ]
  },
  {
   "cell_type": "code",
   "execution_count": 59,
   "metadata": {},
   "outputs": [
    {
     "data": {
      "text/plain": [
       "3308"
      ]
     },
     "execution_count": 59,
     "metadata": {},
     "output_type": "execute_result"
    }
   ],
   "source": [
    "len(data)"
   ]
  },
  {
   "cell_type": "code",
   "execution_count": 55,
   "metadata": {},
   "outputs": [
    {
     "name": "stdout",
     "output_type": "stream",
     "text": [
      "2543\n"
     ]
    }
   ],
   "source": [
    "true_annotation = np.sum(data[\"result\"])\n",
    "print(true_annotation)"
   ]
  },
  {
   "cell_type": "code",
   "execution_count": 56,
   "metadata": {},
   "outputs": [
    {
     "name": "stdout",
     "output_type": "stream",
     "text": [
      "765\n"
     ]
    }
   ],
   "source": [
    "false_annotation = len(data) - true_annotation\n",
    "print(false_annotation)"
   ]
  },
  {
   "cell_type": "code",
   "execution_count": 57,
   "metadata": {},
   "outputs": [
    {
     "data": {
      "text/plain": [
       "76.87424425634825"
      ]
     },
     "execution_count": 57,
     "metadata": {},
     "output_type": "execute_result"
    }
   ],
   "source": [
    "true_annotation*100/ len(data)"
   ]
  },
  {
   "cell_type": "code",
   "execution_count": 37,
   "metadata": {},
   "outputs": [
    {
     "data": {
      "text/html": [
       "<div>\n",
       "<style scoped>\n",
       "    .dataframe tbody tr th:only-of-type {\n",
       "        vertical-align: middle;\n",
       "    }\n",
       "\n",
       "    .dataframe tbody tr th {\n",
       "        vertical-align: top;\n",
       "    }\n",
       "\n",
       "    .dataframe thead th {\n",
       "        text-align: right;\n",
       "    }\n",
       "</style>\n",
       "<table border=\"1\" class=\"dataframe\">\n",
       "  <thead>\n",
       "    <tr style=\"text-align: right;\">\n",
       "      <th></th>\n",
       "      <th>text</th>\n",
       "      <th>likeCount</th>\n",
       "      <th>publishedAt</th>\n",
       "      <th>offensive/non offensive</th>\n",
       "      <th>Algerian Dialect</th>\n",
       "      <th>auto_annotation</th>\n",
       "    </tr>\n",
       "  </thead>\n",
       "  <tbody>\n",
       "    <tr>\n",
       "      <th>0</th>\n",
       "      <td>والله يا مونيا لي راكي تهدري عليهم هوما لي طلع...</td>\n",
       "      <td>0</td>\n",
       "      <td>2020-10-21T14:21:38Z</td>\n",
       "      <td>NaN</td>\n",
       "      <td>NaN</td>\n",
       "      <td>n</td>\n",
       "    </tr>\n",
       "    <tr>\n",
       "      <th>1</th>\n",
       "      <td>ماعندو مادخلك فينا حنا خاوة بنات دراري</td>\n",
       "      <td>0</td>\n",
       "      <td>2020-10-21T14:12:51Z</td>\n",
       "      <td>NaN</td>\n",
       "      <td>NaN</td>\n",
       "      <td>n</td>\n",
       "    </tr>\n",
       "    <tr>\n",
       "      <th>2</th>\n",
       "      <td>اسما يعني انتي ماشي بنادم</td>\n",
       "      <td>0</td>\n",
       "      <td>2020-10-21T14:07:27Z</td>\n",
       "      <td>NaN</td>\n",
       "      <td>NaN</td>\n",
       "      <td>n</td>\n",
       "    </tr>\n",
       "    <tr>\n",
       "      <th>3</th>\n",
       "      <td>3 9 3 9 3كثر فيه الحسد النميمة القذف</td>\n",
       "      <td>0</td>\n",
       "      <td>2020-10-21T14:00:58Z</td>\n",
       "      <td>NaN</td>\n",
       "      <td>NaN</td>\n",
       "      <td>n</td>\n",
       "    </tr>\n",
       "    <tr>\n",
       "      <th>4</th>\n",
       "      <td>متحكلي متخليني طريق معوج لدبوش بلاد لهريب سعاد...</td>\n",
       "      <td>0</td>\n",
       "      <td>2020-10-21T13:59:50Z</td>\n",
       "      <td>NaN</td>\n",
       "      <td>NaN</td>\n",
       "      <td>n</td>\n",
       "    </tr>\n",
       "  </tbody>\n",
       "</table>\n",
       "</div>"
      ],
      "text/plain": [
       "                                                text  likeCount  \\\n",
       "0  والله يا مونيا لي راكي تهدري عليهم هوما لي طلع...          0   \n",
       "1             ماعندو مادخلك فينا حنا خاوة بنات دراري          0   \n",
       "2                          اسما يعني انتي ماشي بنادم          0   \n",
       "3               3 9 3 9 3كثر فيه الحسد النميمة القذف          0   \n",
       "4  متحكلي متخليني طريق معوج لدبوش بلاد لهريب سعاد...          0   \n",
       "\n",
       "            publishedAt  offensive/non offensive  Algerian Dialect  \\\n",
       "0  2020-10-21T14:21:38Z                      NaN               NaN   \n",
       "1  2020-10-21T14:12:51Z                      NaN               NaN   \n",
       "2  2020-10-21T14:07:27Z                      NaN               NaN   \n",
       "3  2020-10-21T14:00:58Z                      NaN               NaN   \n",
       "4  2020-10-21T13:59:50Z                      NaN               NaN   \n",
       "\n",
       "  auto_annotation  \n",
       "0               n  \n",
       "1               n  \n",
       "2               n  \n",
       "3               n  \n",
       "4               n  "
      ]
     },
     "execution_count": 37,
     "metadata": {},
     "output_type": "execute_result"
    }
   ],
   "source": [
    "len(data_non_annotated)\n",
    "data_non_annotated.head()\n"
   ]
  },
  {
   "cell_type": "code",
   "execution_count": 61,
   "metadata": {},
   "outputs": [],
   "source": [
    "data.to_csv('../Data/PreProcessedYouTubeDataFileManAndAutoAnnotated.csv')\n"
   ]
  },
  {
   "cell_type": "code",
   "execution_count": 62,
   "metadata": {},
   "outputs": [
    {
     "data": {
      "text/html": [
       "<div>\n",
       "<style scoped>\n",
       "    .dataframe tbody tr th:only-of-type {\n",
       "        vertical-align: middle;\n",
       "    }\n",
       "\n",
       "    .dataframe tbody tr th {\n",
       "        vertical-align: top;\n",
       "    }\n",
       "\n",
       "    .dataframe thead th {\n",
       "        text-align: right;\n",
       "    }\n",
       "</style>\n",
       "<table border=\"1\" class=\"dataframe\">\n",
       "  <thead>\n",
       "    <tr style=\"text-align: right;\">\n",
       "      <th></th>\n",
       "      <th>author</th>\n",
       "      <th>authorChannelUrl</th>\n",
       "      <th>text</th>\n",
       "      <th>likeCount</th>\n",
       "      <th>publishedAt</th>\n",
       "      <th>offensive/non offensive</th>\n",
       "      <th>auto_annotation</th>\n",
       "      <th>result</th>\n",
       "    </tr>\n",
       "  </thead>\n",
       "  <tbody>\n",
       "    <tr>\n",
       "      <th>0</th>\n",
       "      <td>Mokran Tarak</td>\n",
       "      <td>http://www.youtube.com/channel/UCles9OFN0Ngktk...</td>\n",
       "      <td>فمك كبير من وجهك تقبلي في كميرة وجهك صحيحة</td>\n",
       "      <td>60</td>\n",
       "      <td>2020-12-24T21:27:56Z</td>\n",
       "      <td>p</td>\n",
       "      <td>n</td>\n",
       "      <td>0</td>\n",
       "    </tr>\n",
       "    <tr>\n",
       "      <th>1</th>\n",
       "      <td>Hicham Absaoui</td>\n",
       "      <td>http://www.youtube.com/channel/UCzuY7uYl2regXl...</td>\n",
       "      <td>سلام الله عليكم ورحمته وبركاته قلولهاةتزول الك...</td>\n",
       "      <td>0</td>\n",
       "      <td>2021-04-23T05:12:41Z</td>\n",
       "      <td>n</td>\n",
       "      <td>n</td>\n",
       "      <td>1</td>\n",
       "    </tr>\n",
       "    <tr>\n",
       "      <th>2</th>\n",
       "      <td>Miss Loona</td>\n",
       "      <td>http://www.youtube.com/channel/UCTnw4ZGfNylgSJ...</td>\n",
       "      <td>افهمي حاجة النداء يكون بصفة الجمع لي مش معني ر...</td>\n",
       "      <td>1</td>\n",
       "      <td>2021-04-22T11:40:22Z</td>\n",
       "      <td>n</td>\n",
       "      <td>n</td>\n",
       "      <td>1</td>\n",
       "    </tr>\n",
       "    <tr>\n",
       "      <th>3</th>\n",
       "      <td>Amani Maryola</td>\n",
       "      <td>http://www.youtube.com/channel/UCBkuU6BHLiKCfN...</td>\n",
       "      <td>مش تقصد رجال اي تقصد خوك باباك يعني كل رجال ال...</td>\n",
       "      <td>1</td>\n",
       "      <td>2021-04-22T09:37:04Z</td>\n",
       "      <td>n</td>\n",
       "      <td>n</td>\n",
       "      <td>1</td>\n",
       "    </tr>\n",
       "    <tr>\n",
       "      <th>4</th>\n",
       "      <td>Miss Loona</td>\n",
       "      <td>http://www.youtube.com/channel/UCTnw4ZGfNylgSJ...</td>\n",
       "      <td>لي غاضتو معناها راهي عليه</td>\n",
       "      <td>2</td>\n",
       "      <td>2021-04-22T09:23:21Z</td>\n",
       "      <td>n</td>\n",
       "      <td>n</td>\n",
       "      <td>1</td>\n",
       "    </tr>\n",
       "  </tbody>\n",
       "</table>\n",
       "</div>"
      ],
      "text/plain": [
       "           author                                   authorChannelUrl  \\\n",
       "0    Mokran Tarak  http://www.youtube.com/channel/UCles9OFN0Ngktk...   \n",
       "1  Hicham Absaoui  http://www.youtube.com/channel/UCzuY7uYl2regXl...   \n",
       "2      Miss Loona  http://www.youtube.com/channel/UCTnw4ZGfNylgSJ...   \n",
       "3   Amani Maryola  http://www.youtube.com/channel/UCBkuU6BHLiKCfN...   \n",
       "4      Miss Loona  http://www.youtube.com/channel/UCTnw4ZGfNylgSJ...   \n",
       "\n",
       "                                                text  likeCount  \\\n",
       "0         فمك كبير من وجهك تقبلي في كميرة وجهك صحيحة         60   \n",
       "1  سلام الله عليكم ورحمته وبركاته قلولهاةتزول الك...          0   \n",
       "2  افهمي حاجة النداء يكون بصفة الجمع لي مش معني ر...          1   \n",
       "3  مش تقصد رجال اي تقصد خوك باباك يعني كل رجال ال...          1   \n",
       "4                          لي غاضتو معناها راهي عليه          2   \n",
       "\n",
       "            publishedAt offensive/non offensive auto_annotation  result  \n",
       "0  2020-12-24T21:27:56Z                       p               n       0  \n",
       "1  2021-04-23T05:12:41Z                       n               n       1  \n",
       "2  2021-04-22T11:40:22Z                       n               n       1  \n",
       "3  2021-04-22T09:37:04Z                       n               n       1  \n",
       "4  2021-04-22T09:23:21Z                       n               n       1  "
      ]
     },
     "execution_count": 62,
     "metadata": {},
     "output_type": "execute_result"
    }
   ],
   "source": [
    "data.head()"
   ]
  },
  {
   "cell_type": "code",
   "execution_count": null,
   "metadata": {},
   "outputs": [],
   "source": []
  }
 ],
 "metadata": {
  "kernelspec": {
   "display_name": "Python 3",
   "language": "python",
   "name": "python3"
  },
  "language_info": {
   "codemirror_mode": {
    "name": "ipython",
    "version": 3
   },
   "file_extension": ".py",
   "mimetype": "text/x-python",
   "name": "python",
   "nbconvert_exporter": "python",
   "pygments_lexer": "ipython3",
   "version": "3.8.8"
  }
 },
 "nbformat": 4,
 "nbformat_minor": 4
}

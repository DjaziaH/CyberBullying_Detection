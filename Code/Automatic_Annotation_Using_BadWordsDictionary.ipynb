{
 "cells": [
  {
   "cell_type": "code",
   "execution_count": 1,
   "metadata": {},
   "outputs": [],
   "source": [
    "import pandas as pd \n",
    "from nltk import ngrams\n",
    "import numpy as np"
   ]
  },
  {
   "cell_type": "markdown",
   "metadata": {},
   "source": [
    "## Read the data from the files :"
   ]
  },
  {
   "cell_type": "markdown",
   "metadata": {},
   "source": [
    "### Pre-Processed And Annotated YouTube Data :"
   ]
  },
  {
   "cell_type": "code",
   "execution_count": 2,
   "metadata": {},
   "outputs": [],
   "source": [
    "data_1 = pd.read_csv('../Data/data_1/PreProcessedYouTubeDataFileAndAnnotated.csv')\n",
    "data_2 = pd.read_csv('../Data/data_2/PreProcessedYouTubeDataFileAndAnnotated.csv')"
   ]
  },
  {
   "cell_type": "code",
   "execution_count": 3,
   "metadata": {
    "scrolled": true
   },
   "outputs": [],
   "source": [
    "data_1 = data_1.iloc[:,1:-1]\n",
    "data_2 = data_2.iloc[:,1:-1]"
   ]
  },
  {
   "cell_type": "markdown",
   "metadata": {},
   "source": [
    "### Dictionaries of bad words :\n",
    "The new bad words have been extracted from the offensive comments that have lenght >= 4."
   ]
  },
  {
   "cell_type": "code",
   "execution_count": 4,
   "metadata": {},
   "outputs": [],
   "source": [
    "dictionary = pd.read_csv('../Data/dictionaries/dictionaryWithFrequency.csv')\n",
    "dictionary_1 = pd.read_csv('../Data/dictionaries/dictionary_with_new_bad_words_1.csv')\n",
    "dictionary_2 = pd.read_csv('../Data/dictionaries/dictionary_with_new_bad_words_2.csv')"
   ]
  },
  {
   "cell_type": "markdown",
   "metadata": {},
   "source": [
    "### Annotate :\n",
    "It is a function used to automaticly annotate a comment as offensive if it contains a bad word present in the dictionary "
   ]
  },
  {
   "cell_type": "code",
   "execution_count": 5,
   "metadata": {},
   "outputs": [],
   "source": [
    "def annotate(comment, dictionary):\n",
    "    dictionary = dict(zip(dictionary[\"bad_word\"], dictionary[\"frequency\"]))\n",
    "    annotation = \"n\"\n",
    "    for n in [1,2,3,4]:\n",
    "        commentNgrams = ngrams(comment.split(), n)\n",
    "        for grams in commentNgrams:\n",
    "            key = ' '.join(grams)\n",
    "            if key in dictionary : \n",
    "                annotation = \"p\"\n",
    "    return annotation"
   ]
  },
  {
   "cell_type": "code",
   "execution_count": 6,
   "metadata": {},
   "outputs": [],
   "source": [
    "\n",
    "data_1['auto_annotation'] = data_1[\"text\"].apply(lambda x: annotate(x,dictionary)) \n",
    "data_1['auto_annotation_dict_1'] = data_1[\"text\"].apply(lambda x: annotate(x,dictionary_1)) \n",
    "data_1['auto_annotation_dict_2'] = data_1[\"text\"].apply(lambda x: annotate(x,dictionary_2)) \n",
    "\n",
    "data_2['auto_annotation'] = data_2[\"text\"].apply(lambda x: annotate(x,dictionary)) \n",
    "data_2['auto_annotation_dict_1'] = data_2[\"text\"].apply(lambda x: annotate(x,dictionary_1)) \n",
    "data_2['auto_annotation_dict_2'] = data_2[\"text\"].apply(lambda x: annotate(x,dictionary_2)) \n"
   ]
  },
  {
   "cell_type": "markdown",
   "metadata": {},
   "source": [
    "result, result_dict_1, result_dict_2 will be 1 if the comment is annotated with the correct value using the dictionary, dictionary_1, dictionary_2 respectively. "
   ]
  },
  {
   "cell_type": "code",
   "execution_count": 7,
   "metadata": {},
   "outputs": [],
   "source": [
    "data_1['result'] = np.where(data_1[\"offensive/non offensive\"] == data_1[\"auto_annotation\"], 1, 0) \n",
    "data_1['result_dict_1'] = np.where(data_1[\"offensive/non offensive\"] == data_1[\"auto_annotation_dict_1\"], 1, 0) \n",
    "data_1['result_dict_2'] = np.where(data_1[\"offensive/non offensive\"] == data_1[\"auto_annotation_dict_2\"], 1, 0)\n",
    "\n",
    "data_2['result'] = np.where(data_2[\"offensive/non offensive\"] == data_2[\"auto_annotation\"], 1, 0) \n",
    "data_2['result_dict_1'] = np.where(data_2[\"offensive/non offensive\"] == data_2[\"auto_annotation_dict_1\"], 1, 0) \n",
    "data_2['result_dict_2'] = np.where(data_2[\"offensive/non offensive\"] == data_2[\"auto_annotation_dict_2\"], 1, 0)"
   ]
  },
  {
   "cell_type": "code",
   "execution_count": 9,
   "metadata": {},
   "outputs": [],
   "source": [
    "def accuracy(data):\n",
    "    \n",
    "    #Calculate the accuracy using the three dictionaries : \n",
    "    true_annotation = np.sum(data[\"result\"])\n",
    "    accuracy = true_annotation/ len(data)\n",
    "    \n",
    "    true_annotation = np.sum(data[\"result_dict_1\"])\n",
    "    accuracy_dict_1 = true_annotation/ len(data)\n",
    "    \n",
    "    true_annotation = np.sum(data[\"result_dict_2\"])\n",
    "    accuracy_dict_2 = true_annotation/ len(data)\n",
    "    \n",
    "    \n",
    "    return accuracy, accuracy_dict_1, accuracy_dict_2"
   ]
  },
  {
   "cell_type": "code",
   "execution_count": 10,
   "metadata": {},
   "outputs": [],
   "source": [
    "d1_accuracy, d1_accuracy_dict_1, d1_accuracy_dict_2 = accuracy(data_1)\n",
    "d2_accuracy, d2_accuracy_dict_1, d2_accuracy_dict_2 = accuracy(data_2)"
   ]
  },
  {
   "cell_type": "code",
   "execution_count": 11,
   "metadata": {},
   "outputs": [
    {
     "name": "stdout",
     "output_type": "stream",
     "text": [
      "Data_1 :\n",
      "0.5005843396961434\n",
      "0.7043241137514609\n",
      "0.7070510323334632\n"
     ]
    }
   ],
   "source": [
    "print(\"Data_1 :\")\n",
    "print(d1_accuracy)\n",
    "print(d1_accuracy_dict_1)\n",
    "print(d1_accuracy_dict_2)"
   ]
  },
  {
   "cell_type": "code",
   "execution_count": 12,
   "metadata": {},
   "outputs": [
    {
     "name": "stdout",
     "output_type": "stream",
     "text": [
      "Data_2 :\n",
      "0.4826961107448912\n",
      "0.5964073829927489\n",
      "0.6476598549769281\n"
     ]
    }
   ],
   "source": [
    "print(\"Data_2 :\")\n",
    "print(d2_accuracy)\n",
    "print(d2_accuracy_dict_1)\n",
    "print(d2_accuracy_dict_2)"
   ]
  },
  {
   "cell_type": "markdown",
   "metadata": {},
   "source": [
    "# Using Annotation :\n",
    "Using Annotation Function to get offensive Comments from the non annotated data"
   ]
  },
  {
   "cell_type": "code",
   "execution_count": 13,
   "metadata": {},
   "outputs": [],
   "source": [
    "data_1_non_annotated = pd.read_csv('../Data/data_1/PreProcessedYouTubeDataFileAndNonAnnotated.csv')\n",
    "data_2_non_annotated = pd.read_csv('../Data/data_2/PreProcessedYouTubeDataFileAndNonAnnotated.csv')"
   ]
  },
  {
   "cell_type": "code",
   "execution_count": 14,
   "metadata": {},
   "outputs": [],
   "source": [
    "data_1_non_annotated['auto_annotation'] = data_1_non_annotated[\"text\"].apply(lambda x: annotate(x,dictionary)) \n",
    "data_1_non_annotated['auto_annotation_dict_1'] = data_1_non_annotated[\"text\"].apply(lambda x: annotate(x,dictionary_1)) \n",
    "data_1_non_annotated['auto_annotation_dict_2'] = data_1_non_annotated[\"text\"].apply(lambda x: annotate(x,dictionary_2)) \n",
    "data_1_non_annotated = data_1_non_annotated.iloc[:,1:]\n",
    " "
   ]
  },
  {
   "cell_type": "code",
   "execution_count": 15,
   "metadata": {},
   "outputs": [],
   "source": [
    "data_2_non_annotated['auto_annotation'] = data_2_non_annotated[\"text\"].apply(lambda x: annotate(x,dictionary)) \n",
    "data_2_non_annotated['auto_annotation_dict_1'] = data_2_non_annotated[\"text\"].apply(lambda x: annotate(x,dictionary_1)) \n",
    "data_2_non_annotated['auto_annotation_dict_2'] = data_2_non_annotated[\"text\"].apply(lambda x: annotate(x,dictionary_2)) \n",
    "data_2_non_annotated = data_2_non_annotated.iloc[:,1:]"
   ]
  },
  {
   "cell_type": "code",
   "execution_count": 16,
   "metadata": {
    "scrolled": false
   },
   "outputs": [],
   "source": [
    "def get_auto_annotated_positive(data_non_annotated):\n",
    "    data_auto_annotated = pd.DataFrame(columns=['author', 'authorChannelUrl', 'text','likeCount', 'publishedAt', 'offensive/non offensive'])\n",
    "    data_auto_annotated_dict_1 = pd.DataFrame(columns=['author', 'authorChannelUrl', 'text','likeCount', 'publishedAt', 'offensive/non offensive'])\n",
    "    data_auto_annotated_dict_2 = pd.DataFrame(columns=['author', 'authorChannelUrl', 'text','likeCount', 'publishedAt', 'offensive/non offensive'])\n",
    "\n",
    "    for index in range(len(data_non_annotated)) :\n",
    "        comment = data_non_annotated.iloc[index]\n",
    "        if comment[\"auto_annotation\"] == \"p\":\n",
    "            comment[\"offensive/non offensive\"] = \"p\"\n",
    "            data_auto_annotated = data_auto_annotated.append({'author':comment[\"author\"] , 'authorChannelUrl':comment[\"authorChannelUrl\"] , 'text':comment[\"text\"] ,'likeCount':comment[\"likeCount\"] , 'publishedAt':comment[\"publishedAt\"] , 'offensive/non offensive': comment[\"offensive/non offensive\"]}, ignore_index=True)\n",
    "\n",
    "        if comment[\"auto_annotation_dict_1\"] == \"p\":\n",
    "            comment[\"offensive/non offensive\"] = \"p\"\n",
    "            data_auto_annotated_dict_1 = data_auto_annotated_dict_1.append({'author':comment[\"author\"] , 'authorChannelUrl':comment[\"authorChannelUrl\"] , 'text':comment[\"text\"] ,'likeCount':comment[\"likeCount\"] , 'publishedAt':comment[\"publishedAt\"] , 'offensive/non offensive': comment[\"offensive/non offensive\"]}, ignore_index=True)\n",
    "\n",
    "        if comment[\"auto_annotation_dict_2\"] == \"p\":\n",
    "            comment[\"offensive/non offensive\"] = \"p\"\n",
    "            data_auto_annotated_dict_2 = data_auto_annotated_dict_2.append({'author':comment[\"author\"] , 'authorChannelUrl':comment[\"authorChannelUrl\"] , 'text':comment[\"text\"] ,'likeCount':comment[\"likeCount\"] , 'publishedAt':comment[\"publishedAt\"] , 'offensive/non offensive': comment[\"offensive/non offensive\"]}, ignore_index=True)\n",
    "    return data_auto_annotated, data_auto_annotated_dict_1, data_auto_annotated_dict_2\n"
   ]
  },
  {
   "cell_type": "code",
   "execution_count": 17,
   "metadata": {
    "scrolled": true
   },
   "outputs": [
    {
     "name": "stderr",
     "output_type": "stream",
     "text": [
      "C:\\ProgramData\\Anaconda3\\lib\\site-packages\\ipykernel_launcher.py:17: SettingWithCopyWarning: \n",
      "A value is trying to be set on a copy of a slice from a DataFrame\n",
      "\n",
      "See the caveats in the documentation: https://pandas.pydata.org/pandas-docs/stable/user_guide/indexing.html#returning-a-view-versus-a-copy\n",
      "C:\\ProgramData\\Anaconda3\\lib\\site-packages\\ipykernel_launcher.py:13: SettingWithCopyWarning: \n",
      "A value is trying to be set on a copy of a slice from a DataFrame\n",
      "\n",
      "See the caveats in the documentation: https://pandas.pydata.org/pandas-docs/stable/user_guide/indexing.html#returning-a-view-versus-a-copy\n",
      "  del sys.path[0]\n",
      "C:\\ProgramData\\Anaconda3\\lib\\site-packages\\ipykernel_launcher.py:9: SettingWithCopyWarning: \n",
      "A value is trying to be set on a copy of a slice from a DataFrame\n",
      "\n",
      "See the caveats in the documentation: https://pandas.pydata.org/pandas-docs/stable/user_guide/indexing.html#returning-a-view-versus-a-copy\n",
      "  if __name__ == '__main__':\n"
     ]
    }
   ],
   "source": [
    "data_1_auto_annotated, data_1_auto_annotated_dict_1, data_1_auto_annotated_dict_2 = get_auto_annotated_positive(data_1_non_annotated)\n",
    "data_2_auto_annotated, data_2_auto_annotated_dict_1, data_2_auto_annotated_dict_2 = get_auto_annotated_positive(data_2_non_annotated)"
   ]
  },
  {
   "cell_type": "code",
   "execution_count": 18,
   "metadata": {},
   "outputs": [],
   "source": [
    "data_1_auto_annotated.to_csv('../Data/data_1/auto_annotated.csv')\n",
    "data_1_auto_annotated_dict_1.to_csv('../Data/data_1/auto_annotated_dict_1.csv')\n",
    "data_1_auto_annotated_dict_2.to_csv('../Data/data_1/auto_annotated_dict_2.csv')\n",
    "\n",
    "\n",
    "\n",
    "data_2_auto_annotated.to_csv('../Data/data_2/auto_annotated.csv')\n",
    "data_2_auto_annotated_dict_1.to_csv('../Data/data_2/auto_annotated_dict_1.csv')\n",
    "data_2_auto_annotated_dict_2.to_csv('../Data/data_2/auto_annotated_dict_2.csv')"
   ]
  }
 ],
 "metadata": {
  "kernelspec": {
   "display_name": "Python 3",
   "language": "python",
   "name": "python3"
  },
  "language_info": {
   "codemirror_mode": {
    "name": "ipython",
    "version": 3
   },
   "file_extension": ".py",
   "mimetype": "text/x-python",
   "name": "python",
   "nbconvert_exporter": "python",
   "pygments_lexer": "ipython3",
   "version": "3.7.6"
  }
 },
 "nbformat": 4,
 "nbformat_minor": 4
}

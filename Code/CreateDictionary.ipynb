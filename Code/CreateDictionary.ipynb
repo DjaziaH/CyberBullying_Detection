{
 "cells": [
  {
   "cell_type": "code",
   "execution_count": 1,
   "metadata": {},
   "outputs": [],
   "source": [
    "import pandas as pd\n",
    "from pandas import DataFrame\n"
   ]
  },
  {
   "cell_type": "code",
   "execution_count": 2,
   "metadata": {},
   "outputs": [],
   "source": [
    "df = pd.read_csv('../Data/bad_words.csv')"
   ]
  },
  {
   "cell_type": "code",
   "execution_count": 1,
   "metadata": {},
   "outputs": [],
   "source": [
    "# Create dictionary that contains : (key= word  :  weight=avgOfSeverities)\n",
    "\n",
    "def create_dictionary():\n",
    "    df = pd.read_csv('../Data/bad_words.csv')\n",
    "    dictionary = {}\n",
    "    for i in df.index:\n",
    "        data = (df.loc[i])\n",
    "        key = data[\"bad_word\"]\n",
    "        if key in dictionary:\n",
    "            dictionary[key] = (dictionary[key] + data[\"severity\"]) / 2\n",
    "        else :\n",
    "            dictionary[key] = data[\"severity\"]\n",
    "    return dictionary \n",
    "        "
   ]
  },
  {
   "cell_type": "code",
   "execution_count": 2,
   "metadata": {
    "scrolled": true
   },
   "outputs": [],
   "source": [
    "# Create dictionary that contains : (key= (word,classe)  :  weight=avgOfSeverities)\n",
    "\n",
    "def create_dictionaryِClasses():\n",
    "    df = pd.read_csv('../Data/bad_words.csv')\n",
    "    dictionaryِClasses = {}\n",
    "    classes = [\"سب\" , \"سخرية\" , \"تحرش\" , \"تهديد\"]\n",
    "\n",
    "    for i in df.index:\n",
    "        data = (df.loc[i])\n",
    "        for class_ in classes : \n",
    "            key = (data[\"bad_word\"], class_)\n",
    "            if key in dictionaryِClasses:\n",
    "                if(data[\"classification\"] == class_):\n",
    "                    dictionaryِClasses[key] = (dictionaryِClasses[key] + data[\"severity\"]) / 2\n",
    "            else :\n",
    "                if(data[\"classification\"] == class_):\n",
    "                    dictionaryِClasses[key] = data[\"severity\"]\n",
    "    return dictionaryِClasses"
   ]
  }
 ],
 "metadata": {
  "kernelspec": {
   "display_name": "Python 3",
   "language": "python",
   "name": "python3"
  },
  "language_info": {
   "codemirror_mode": {
    "name": "ipython",
    "version": 3
   },
   "file_extension": ".py",
   "mimetype": "text/x-python",
   "name": "python",
   "nbconvert_exporter": "python",
   "pygments_lexer": "ipython3",
   "version": "3.7.6"
  }
 },
 "nbformat": 4,
 "nbformat_minor": 4
}
